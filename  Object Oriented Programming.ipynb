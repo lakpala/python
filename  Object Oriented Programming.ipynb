{
 "cells": [
  {
   "cell_type": "code",
   "execution_count": 1,
   "id": "31f682ef",
   "metadata": {},
   "outputs": [],
   "source": [
    "class Car():\n",
    "    def __init__(self,color,model,mark):\n",
    "        self.color = color\n",
    "        self.model = model\n",
    "        self.mark = mark\n",
    "    def accelerate(self):\n",
    "        print(\"The car is accelerating\")\n",
    "    def brake(self):\n",
    "        print(\"The car is braking\")"
   ]
  },
  {
   "cell_type": "code",
   "execution_count": 2,
   "id": "367643ca",
   "metadata": {},
   "outputs": [],
   "source": [
    "my_car = Car(\"Red\",\"Lamborgini\",\"621NTA\")"
   ]
  },
  {
   "cell_type": "code",
   "execution_count": 3,
   "id": "6942b2ef",
   "metadata": {},
   "outputs": [
    {
     "name": "stdout",
     "output_type": "stream",
     "text": [
      "Red\n"
     ]
    }
   ],
   "source": [
    "print(my_car.color)"
   ]
  },
  {
   "cell_type": "code",
   "execution_count": 4,
   "id": "0fa57d13",
   "metadata": {},
   "outputs": [
    {
     "data": {
      "text/plain": [
       "'621NTA'"
      ]
     },
     "execution_count": 4,
     "metadata": {},
     "output_type": "execute_result"
    }
   ],
   "source": [
    "my_car.mark"
   ]
  },
  {
   "cell_type": "code",
   "execution_count": 5,
   "id": "a449fda2",
   "metadata": {},
   "outputs": [
    {
     "name": "stdout",
     "output_type": "stream",
     "text": [
      "The car is braking\n"
     ]
    }
   ],
   "source": [
    "my_car.brake()"
   ]
  },
  {
   "cell_type": "code",
   "execution_count": 6,
   "id": "3b99146d",
   "metadata": {},
   "outputs": [
    {
     "name": "stdout",
     "output_type": "stream",
     "text": [
      "The car is accelerating\n"
     ]
    }
   ],
   "source": [
    "my_car.accelerate()"
   ]
  },
  {
   "cell_type": "code",
   "execution_count": 7,
   "id": "e5d47e46",
   "metadata": {},
   "outputs": [],
   "source": [
    "mylist = [1,2,3]"
   ]
  },
  {
   "cell_type": "code",
   "execution_count": 8,
   "id": "117944f6",
   "metadata": {},
   "outputs": [
    {
     "data": {
      "text/plain": [
       "[1, 2, 3]"
      ]
     },
     "execution_count": 8,
     "metadata": {},
     "output_type": "execute_result"
    }
   ],
   "source": [
    "mylist"
   ]
  },
  {
   "cell_type": "code",
   "execution_count": 9,
   "id": "ffc3bf75",
   "metadata": {},
   "outputs": [],
   "source": [
    "class Sample():\n",
    "    pass"
   ]
  },
  {
   "cell_type": "code",
   "execution_count": 10,
   "id": "d1e12e02",
   "metadata": {},
   "outputs": [],
   "source": [
    "my_sample = Sample()"
   ]
  },
  {
   "cell_type": "code",
   "execution_count": 11,
   "id": "deaf8cd8",
   "metadata": {},
   "outputs": [
    {
     "data": {
      "text/plain": [
       "__main__.Sample"
      ]
     },
     "execution_count": 11,
     "metadata": {},
     "output_type": "execute_result"
    }
   ],
   "source": [
    "type(my_sample)"
   ]
  },
  {
   "cell_type": "code",
   "execution_count": 12,
   "id": "7490322d",
   "metadata": {},
   "outputs": [],
   "source": [
    "class Dog:\n",
    "    def __init__(self,breed):\n",
    "        self.breed = breed"
   ]
  },
  {
   "cell_type": "code",
   "execution_count": 13,
   "id": "9f6eced6",
   "metadata": {},
   "outputs": [],
   "source": [
    "my_dog = Dog(\"Lab\")"
   ]
  },
  {
   "cell_type": "code",
   "execution_count": 14,
   "id": "a0527177",
   "metadata": {},
   "outputs": [
    {
     "data": {
      "text/plain": [
       "__main__.Dog"
      ]
     },
     "execution_count": 14,
     "metadata": {},
     "output_type": "execute_result"
    }
   ],
   "source": [
    "type(my_dog)"
   ]
  },
  {
   "cell_type": "code",
   "execution_count": 15,
   "id": "990af22a",
   "metadata": {},
   "outputs": [
    {
     "data": {
      "text/plain": [
       "'Lab'"
      ]
     },
     "execution_count": 15,
     "metadata": {},
     "output_type": "execute_result"
    }
   ],
   "source": [
    "my_dog.breed"
   ]
  },
  {
   "cell_type": "code",
   "execution_count": 16,
   "id": "c84da8f2",
   "metadata": {},
   "outputs": [],
   "source": [
    "class Dog():\n",
    "    #Attributes\n",
    "    #we take in the argument\n",
    "    #assign it to self attribute\n",
    "    def __init__(self,mybreed):\n",
    "        self.breed = mybreed"
   ]
  },
  {
   "cell_type": "code",
   "execution_count": 17,
   "id": "b916ecb7",
   "metadata": {},
   "outputs": [],
   "source": [
    "my_dog = Dog(\"Huskie\")"
   ]
  },
  {
   "cell_type": "code",
   "execution_count": 18,
   "id": "8f4adff9",
   "metadata": {},
   "outputs": [
    {
     "data": {
      "text/plain": [
       "'Huskie'"
      ]
     },
     "execution_count": 18,
     "metadata": {},
     "output_type": "execute_result"
    }
   ],
   "source": [
    "my_dog.breed"
   ]
  },
  {
   "cell_type": "code",
   "execution_count": 19,
   "id": "3ce2e6f5",
   "metadata": {},
   "outputs": [],
   "source": [
    "class Dog():\n",
    "    #Attributes\n",
    "    #we take in the argument\n",
    "    #assign it to self attribute\n",
    "    def __init__(self,mybreed):\n",
    "        self.my_attribute = mybreed\n",
    "    "
   ]
  },
  {
   "cell_type": "code",
   "execution_count": 20,
   "id": "696db431",
   "metadata": {},
   "outputs": [],
   "source": [
    "my_dog = Dog(\"Lab\")"
   ]
  },
  {
   "cell_type": "code",
   "execution_count": 21,
   "id": "18d11304",
   "metadata": {},
   "outputs": [
    {
     "data": {
      "text/plain": [
       "'Lab'"
      ]
     },
     "execution_count": 21,
     "metadata": {},
     "output_type": "execute_result"
    }
   ],
   "source": [
    "my_dog.my_attribute"
   ]
  },
  {
   "cell_type": "code",
   "execution_count": 22,
   "id": "0c4b4c15",
   "metadata": {},
   "outputs": [],
   "source": [
    "class Dog():\n",
    "    def __init__(self,breed,name,sports):\n",
    "        self.breed = breed\n",
    "        self.name = name\n",
    "        #expecting a boolean\n",
    "        self.sports = sports"
   ]
  },
  {
   "cell_type": "code",
   "execution_count": 23,
   "id": "76b171eb",
   "metadata": {},
   "outputs": [],
   "source": [
    "my_dog = Dog(breed = \"Huskie\",name = \"Frankie\",sports = False)"
   ]
  },
  {
   "cell_type": "code",
   "execution_count": 24,
   "id": "5b6c4a75",
   "metadata": {},
   "outputs": [
    {
     "data": {
      "text/plain": [
       "__main__.Dog"
      ]
     },
     "execution_count": 24,
     "metadata": {},
     "output_type": "execute_result"
    }
   ],
   "source": [
    "type(my_dog)"
   ]
  },
  {
   "cell_type": "code",
   "execution_count": 25,
   "id": "e33553d8",
   "metadata": {},
   "outputs": [
    {
     "data": {
      "text/plain": [
       "'Huskie'"
      ]
     },
     "execution_count": 25,
     "metadata": {},
     "output_type": "execute_result"
    }
   ],
   "source": [
    "my_dog.breed"
   ]
  },
  {
   "cell_type": "code",
   "execution_count": 26,
   "id": "3e8edcfe",
   "metadata": {},
   "outputs": [
    {
     "data": {
      "text/plain": [
       "'Frankie'"
      ]
     },
     "execution_count": 26,
     "metadata": {},
     "output_type": "execute_result"
    }
   ],
   "source": [
    "my_dog.name"
   ]
  },
  {
   "cell_type": "code",
   "execution_count": 27,
   "id": "7a87cf54",
   "metadata": {},
   "outputs": [
    {
     "data": {
      "text/plain": [
       "False"
      ]
     },
     "execution_count": 27,
     "metadata": {},
     "output_type": "execute_result"
    }
   ],
   "source": [
    "my_dog.sports"
   ]
  },
  {
   "cell_type": "code",
   "execution_count": 28,
   "id": "9ea21e5f",
   "metadata": {},
   "outputs": [],
   "source": [
    "my_dog = Dog(breed = \"Huskie\",name = \"Frankie\",sports = \"NO SPORTS\")"
   ]
  },
  {
   "cell_type": "code",
   "execution_count": 29,
   "id": "806d921b",
   "metadata": {},
   "outputs": [
    {
     "data": {
      "text/plain": [
       "'NO SPORTS'"
      ]
     },
     "execution_count": 29,
     "metadata": {},
     "output_type": "execute_result"
    }
   ],
   "source": [
    "my_dog.sports"
   ]
  },
  {
   "cell_type": "code",
   "execution_count": 33,
   "id": "2e24fa8f",
   "metadata": {},
   "outputs": [],
   "source": [
    "class name():\n",
    "    def __init__(self,name,age,course):\n",
    "        self.name = name\n",
    "        self.age = age\n",
    "        self.course = course\n",
    "    def Present(self):\n",
    "        print(\"He is present today\")\n",
    "    def Absent(self):\n",
    "        print(\"He is absent today\")"
   ]
  },
  {
   "cell_type": "code",
   "execution_count": 34,
   "id": "503c6cc9",
   "metadata": {},
   "outputs": [],
   "source": [
    "my_name =name('Lakpa','18','BCA')"
   ]
  },
  {
   "cell_type": "code",
   "execution_count": 36,
   "id": "e72ceb0d",
   "metadata": {},
   "outputs": [
    {
     "data": {
      "text/plain": [
       "'18'"
      ]
     },
     "execution_count": 36,
     "metadata": {},
     "output_type": "execute_result"
    }
   ],
   "source": [
    "my_name.age"
   ]
  },
  {
   "cell_type": "code",
   "execution_count": 38,
   "id": "5ca9f0b0",
   "metadata": {},
   "outputs": [
    {
     "data": {
      "text/plain": [
       "'BCA'"
      ]
     },
     "execution_count": 38,
     "metadata": {},
     "output_type": "execute_result"
    }
   ],
   "source": [
    "my_name.course"
   ]
  },
  {
   "cell_type": "code",
   "execution_count": 39,
   "id": "1e592070",
   "metadata": {},
   "outputs": [
    {
     "name": "stdout",
     "output_type": "stream",
     "text": [
      "He is absent today\n"
     ]
    }
   ],
   "source": [
    "my_name.Absent()"
   ]
  },
  {
   "cell_type": "code",
   "execution_count": 41,
   "id": "3613c6ac",
   "metadata": {},
   "outputs": [
    {
     "name": "stdout",
     "output_type": "stream",
     "text": [
      "He is present today\n"
     ]
    }
   ],
   "source": [
    "my_name.Present()"
   ]
  },
  {
   "cell_type": "code",
   "execution_count": 42,
   "id": "e88b4405",
   "metadata": {},
   "outputs": [
    {
     "data": {
      "text/plain": [
       "'Lakpa'"
      ]
     },
     "execution_count": 42,
     "metadata": {},
     "output_type": "execute_result"
    }
   ],
   "source": [
    "my_name.name"
   ]
  },
  {
   "cell_type": "code",
   "execution_count": null,
   "id": "314b28e1",
   "metadata": {},
   "outputs": [],
   "source": []
  }
 ],
 "metadata": {
  "kernelspec": {
   "display_name": "Python 3 (ipykernel)",
   "language": "python",
   "name": "python3"
  },
  "language_info": {
   "codemirror_mode": {
    "name": "ipython",
    "version": 3
   },
   "file_extension": ".py",
   "mimetype": "text/x-python",
   "name": "python",
   "nbconvert_exporter": "python",
   "pygments_lexer": "ipython3",
   "version": "3.10.9"
  }
 },
 "nbformat": 4,
 "nbformat_minor": 5
}

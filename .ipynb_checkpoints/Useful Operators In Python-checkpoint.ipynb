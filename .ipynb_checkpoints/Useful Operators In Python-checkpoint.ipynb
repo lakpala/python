{
 "cells": [
  {
   "cell_type": "code",
   "execution_count": 4,
   "id": "632ac66d",
   "metadata": {},
   "outputs": [],
   "source": [
    "mylist = [1,2,3,4,5,6,7,8,9,10,11]"
   ]
  },
  {
   "cell_type": "code",
   "execution_count": 7,
   "id": "ee41cebf",
   "metadata": {},
   "outputs": [
    {
     "name": "stdout",
     "output_type": "stream",
     "text": [
      "3\n",
      "4\n",
      "5\n",
      "6\n",
      "7\n",
      "8\n",
      "9\n"
     ]
    }
   ],
   "source": [
    "for num in range(3,10):\n",
    "    print(num )"
   ]
  },
  {
   "cell_type": "code",
   "execution_count": 8,
   "id": "ba1ae49d",
   "metadata": {},
   "outputs": [
    {
     "name": "stdout",
     "output_type": "stream",
     "text": [
      "0\n",
      "2\n",
      "4\n",
      "6\n",
      "8\n",
      "10\n"
     ]
    }
   ],
   "source": [
    "for num in range(0,11,2):\n",
    "    print(num )"
   ]
  },
  {
   "cell_type": "code",
   "execution_count": 9,
   "id": "6d403657",
   "metadata": {},
   "outputs": [],
   "source": [
    "#enumerate"
   ]
  },
  {
   "cell_type": "code",
   "execution_count": 12,
   "id": "2b00c240",
   "metadata": {},
   "outputs": [
    {
     "name": "stdout",
     "output_type": "stream",
     "text": [
      "At index0 the letter is a\n",
      "At index1 the letter is b\n",
      "At index2 the letter is c\n",
      "At index3 the letter is d\n",
      "At index4 the letter is e\n",
      "At index5 the letter is f\n"
     ]
    }
   ],
   "source": [
    "index_count = 0\n",
    "for letter in \"abcdef\":\n",
    "    print(\"At index{} the letter is {}\".format(index_count,letter))\n",
    "    index_count += 1"
   ]
  },
  {
   "cell_type": "code",
   "execution_count": 15,
   "id": "b7c8df38",
   "metadata": {},
   "outputs": [
    {
     "name": "stdout",
     "output_type": "stream",
     "text": [
      "(0, 'l')\n",
      "(1, 'a')\n",
      "(2, 'k')\n",
      "(3, 'p')\n",
      "(4, 'a')\n"
     ]
    }
   ],
   "source": [
    "word = \"lakpa\"\n",
    "for item in enumerate(word):\n",
    "    print(item)"
   ]
  },
  {
   "cell_type": "code",
   "execution_count": 16,
   "id": "838555d6",
   "metadata": {},
   "outputs": [
    {
     "data": {
      "text/plain": [
       "tuple"
      ]
     },
     "execution_count": 16,
     "metadata": {},
     "output_type": "execute_result"
    }
   ],
   "source": [
    "type(item)"
   ]
  },
  {
   "cell_type": "code",
   "execution_count": 18,
   "id": "50e33f1c",
   "metadata": {},
   "outputs": [
    {
     "name": "stdout",
     "output_type": "stream",
     "text": [
      "(0, 'l')\n",
      "f\n",
      "\n",
      "\n",
      "(1, 'a')\n",
      "f\n",
      "\n",
      "\n",
      "(2, 'k')\n",
      "f\n",
      "\n",
      "\n",
      "(3, 'p')\n",
      "f\n",
      "\n",
      "\n",
      "(4, 'a')\n",
      "f\n",
      "\n",
      "\n"
     ]
    }
   ],
   "source": [
    "word = \"lakpa\"\n",
    "for index in enumerate(word):\n",
    "    print(index)\n",
    "    print(letter)\n",
    "    print(\"\\n\")"
   ]
  },
  {
   "cell_type": "code",
   "execution_count": 19,
   "id": "a24fea89",
   "metadata": {},
   "outputs": [],
   "source": [
    "#zip function"
   ]
  },
  {
   "cell_type": "code",
   "execution_count": 20,
   "id": "037f29f0",
   "metadata": {},
   "outputs": [
    {
     "name": "stdout",
     "output_type": "stream",
     "text": [
      "a\n",
      "1\n",
      "b\n",
      "2\n",
      "c\n",
      "3\n"
     ]
    }
   ],
   "source": [
    "mylist1 = ['a','b','c']\n",
    "mylist2 = (1,2,3)\n",
    "for l1,l2 in zip(mylist1,mylist2):\n",
    "    print(l1)\n",
    "    print(l2)"
   ]
  },
  {
   "cell_type": "code",
   "execution_count": 22,
   "id": "681e733b",
   "metadata": {},
   "outputs": [
    {
     "data": {
      "text/plain": [
       "[('a', 1), ('b', 2), ('c', 3), ('d', 4)]"
      ]
     },
     "execution_count": 22,
     "metadata": {},
     "output_type": "execute_result"
    }
   ],
   "source": [
    "mylist1 = ['a','b','c','d']\n",
    "mylist2 = [1,2,3,4,5]\n",
    "list(zip(mylist1,mylist2))"
   ]
  },
  {
   "cell_type": "code",
   "execution_count": 23,
   "id": "7dbdc8ef",
   "metadata": {},
   "outputs": [
    {
     "name": "stdout",
     "output_type": "stream",
     "text": [
      "a\n",
      "1\n",
      "11\n",
      "b\n",
      "2\n",
      "12\n",
      "c\n",
      "3\n",
      "13\n",
      "d\n",
      "4\n",
      "14\n"
     ]
    }
   ],
   "source": [
    "mylist1 = ['a','b','c','d']\n",
    "mylist2 = [1,2,3,4,5]\n",
    "mylist3 = [11,12,13,14]\n",
    "for l1,l2,l3 in zip(mylist1,mylist2,mylist3):\n",
    "    print(l1)\n",
    "    print(l2)\n",
    "    print(l3)"
   ]
  },
  {
   "cell_type": "code",
   "execution_count": 24,
   "id": "6efda50c",
   "metadata": {},
   "outputs": [],
   "source": [
    "#in keyword"
   ]
  },
  {
   "cell_type": "code",
   "execution_count": 5,
   "id": "931da794",
   "metadata": {},
   "outputs": [
    {
     "data": {
      "text/plain": [
       "False"
      ]
     },
     "execution_count": 5,
     "metadata": {},
     "output_type": "execute_result"
    }
   ],
   "source": [
    "\"x\" in [1,2,3]"
   ]
  },
  {
   "cell_type": "code",
   "execution_count": 2,
   "id": "e1555086",
   "metadata": {},
   "outputs": [],
   "source": [
    "#min,max"
   ]
  },
  {
   "cell_type": "code",
   "execution_count": 3,
   "id": "6bef86ea",
   "metadata": {},
   "outputs": [
    {
     "data": {
      "text/plain": [
       "10"
      ]
     },
     "execution_count": 3,
     "metadata": {},
     "output_type": "execute_result"
    }
   ],
   "source": [
    "mylist = [10,20,30,40,50,60]\n",
    "min(mylist)"
   ]
  },
  {
   "cell_type": "code",
   "execution_count": 4,
   "id": "ee061a43",
   "metadata": {},
   "outputs": [
    {
     "data": {
      "text/plain": [
       "60"
      ]
     },
     "execution_count": 4,
     "metadata": {},
     "output_type": "execute_result"
    }
   ],
   "source": [
    "max(mylist)"
   ]
  },
  {
   "cell_type": "code",
   "execution_count": 1,
   "id": "5e3c88ac",
   "metadata": {},
   "outputs": [],
   "source": [
    "#random library"
   ]
  },
  {
   "cell_type": "code",
   "execution_count": 19,
   "id": "b16b0cf7",
   "metadata": {},
   "outputs": [],
   "source": [
    "from random import shuffle\n",
    "mylist = [1,2,3,4,5,6,7,8,]\n",
    "shuffle(mylist)\n",
    "rd1 = mylist"
   ]
  },
  {
   "cell_type": "code",
   "execution_count": null,
   "id": "e51e3cde",
   "metadata": {},
   "outputs": [],
   "source": []
  },
  {
   "cell_type": "code",
   "execution_count": 3,
   "id": "aafc7552",
   "metadata": {},
   "outputs": [],
   "source": [
    "#input()"
   ]
  },
  {
   "cell_type": "code",
   "execution_count": 4,
   "id": "48760fed",
   "metadata": {},
   "outputs": [
    {
     "name": "stdout",
     "output_type": "stream",
     "text": [
      "enter a number herelakpa\n"
     ]
    },
    {
     "data": {
      "text/plain": [
       "'lakpa'"
      ]
     },
     "execution_count": 4,
     "metadata": {},
     "output_type": "execute_result"
    }
   ],
   "source": [
    "input(\"enter a number here\")"
   ]
  },
  {
   "cell_type": "code",
   "execution_count": 7,
   "id": "16191971",
   "metadata": {},
   "outputs": [
    {
     "name": "stdout",
     "output_type": "stream",
     "text": [
      "enter your fav number1\n"
     ]
    }
   ],
   "source": [
    "result =int (input(\"enter your fav number\"))"
   ]
  },
  {
   "cell_type": "code",
   "execution_count": 9,
   "id": "e231279e",
   "metadata": {},
   "outputs": [
    {
     "name": "stdout",
     "output_type": "stream",
     "text": [
      "what is your favourate colour?green\n"
     ]
    },
    {
     "data": {
      "text/plain": [
       "'green'"
      ]
     },
     "execution_count": 9,
     "metadata": {},
     "output_type": "execute_result"
    }
   ],
   "source": [
    "input(\"what is your favourate colour?\")\n"
   ]
  },
  {
   "cell_type": "code",
   "execution_count": 20,
   "id": "79d175d5",
   "metadata": {},
   "outputs": [
    {
     "name": "stdout",
     "output_type": "stream",
     "text": [
      "enter the 1st number30\n",
      "enter the 2nd number50\n",
      "80.0\n"
     ]
    }
   ],
   "source": [
    "number = float(input(\"enter the 1st number\"))\n",
    "number_two = float (input(\"enter the 2nd number\"))\n",
    "result = number + number_two\n",
    "print(result)"
   ]
  },
  {
   "cell_type": "code",
   "execution_count": 21,
   "id": "646c7433",
   "metadata": {},
   "outputs": [
    {
     "name": "stdout",
     "output_type": "stream",
     "text": [
      "enter the 1st number50\n",
      "enter the 2nd number40\n",
      "enter the 3rd number57\n",
      "33.0\n"
     ]
    }
   ],
   "source": [
    "number = float(input(\"enter the 1st number\"))\n",
    "number_two = float(input(\"enter the 2nd number\"))\n",
    "number_three = float(input(\"enter the 3rd number\"))\n",
    "result = number + number_two - number_three\n",
    "print(result)\n"
   ]
  },
  {
   "cell_type": "code",
   "execution_count": 23,
   "id": "ac50095e",
   "metadata": {},
   "outputs": [],
   "source": [
    " #list comprehension in python"
   ]
  },
  {
   "cell_type": "code",
   "execution_count": null,
   "id": "530d3803",
   "metadata": {},
   "outputs": [],
   "source": []
  }
 ],
 "metadata": {
  "kernelspec": {
   "display_name": "Python 3 (ipykernel)",
   "language": "python",
   "name": "python3"
  },
  "language_info": {
   "codemirror_mode": {
    "name": "ipython",
    "version": 3
   },
   "file_extension": ".py",
   "mimetype": "text/x-python",
   "name": "python",
   "nbconvert_exporter": "python",
   "pygments_lexer": "ipython3",
   "version": "3.10.9"
  }
 },
 "nbformat": 4,
 "nbformat_minor": 5
}

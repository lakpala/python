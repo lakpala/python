{
 "cells": [
  {
   "cell_type": "code",
   "execution_count": 1,
   "id": "18092ba4",
   "metadata": {},
   "outputs": [],
   "source": [
    "def lesser_of_two_evens(a,b):\n",
    "    if a % 2 == 0 and b % 2 ==0:\n",
    "        if a<b:\n",
    "            result = a\n",
    "        else:\n",
    "            result = b\n",
    "    else:\n",
    "        if a>b:\n",
    "            result = a\n",
    "        else:\n",
    "            result = b\n",
    "    return result\n",
    "            "
   ]
  },
  {
   "cell_type": "code",
   "execution_count": 2,
   "id": "0125eb79",
   "metadata": {},
   "outputs": [
    {
     "data": {
      "text/plain": [
       "2"
      ]
     },
     "execution_count": 2,
     "metadata": {},
     "output_type": "execute_result"
    }
   ],
   "source": [
    "lesser_of_two_evens(2,6)"
   ]
  },
  {
   "cell_type": "code",
   "execution_count": 3,
   "id": "9adff3b0",
   "metadata": {},
   "outputs": [
    {
     "data": {
      "text/plain": [
       "5"
      ]
     },
     "execution_count": 3,
     "metadata": {},
     "output_type": "execute_result"
    }
   ],
   "source": [
    "lesser_of_two_evens(1,5)"
   ]
  },
  {
   "cell_type": "code",
   "execution_count": 4,
   "id": "17a826f5",
   "metadata": {},
   "outputs": [],
   "source": [
    "def lesser_of_two_evens(a,b):\n",
    "    if a % 2 == 0 and b % 2 == 0:\n",
    "        result = min(a,b)\n",
    "    else:\n",
    "        result = max(a,b)\n",
    "    return result"
   ]
  },
  {
   "cell_type": "code",
   "execution_count": 5,
   "id": "650226b1",
   "metadata": {},
   "outputs": [
    {
     "data": {
      "text/plain": [
       "2"
      ]
     },
     "execution_count": 5,
     "metadata": {},
     "output_type": "execute_result"
    }
   ],
   "source": [
    "lesser_of_two_evens(2,8)"
   ]
  },
  {
   "cell_type": "code",
   "execution_count": 6,
   "id": "ab66d0fc",
   "metadata": {},
   "outputs": [
    {
     "data": {
      "text/plain": [
       "20"
      ]
     },
     "execution_count": 6,
     "metadata": {},
     "output_type": "execute_result"
    }
   ],
   "source": [
    "lesser_of_two_evens(20,5)"
   ]
  },
  {
   "cell_type": "code",
   "execution_count": 11,
   "id": "4b92aff1",
   "metadata": {},
   "outputs": [],
   "source": [
    "def lesser_of_two_evens(x,y):\n",
    "    if x % 2 == 0 and y % 2 == 0:\n",
    "        return min(x,y)\n",
    "    else:\n",
    "        return max(x,y)"
   ]
  },
  {
   "cell_type": "code",
   "execution_count": 12,
   "id": "ab5bc3a6",
   "metadata": {},
   "outputs": [
    {
     "data": {
      "text/plain": [
       "2"
      ]
     },
     "execution_count": 12,
     "metadata": {},
     "output_type": "execute_result"
    }
   ],
   "source": [
    "lesser_of_two_evens(2,4)"
   ]
  },
  {
   "cell_type": "code",
   "execution_count": 13,
   "id": "2f0757b8",
   "metadata": {},
   "outputs": [
    {
     "data": {
      "text/plain": [
       "5"
      ]
     },
     "execution_count": 13,
     "metadata": {},
     "output_type": "execute_result"
    }
   ],
   "source": [
    "lesser_of_two_evens(1,5)"
   ]
  },
  {
   "cell_type": "code",
   "execution_count": 14,
   "id": "f92d0c54",
   "metadata": {},
   "outputs": [],
   "source": [
    "def animal_crackers(text):\n",
    "    wordlist = text.split()\n",
    "    first = wordlist[0]\n",
    "    second = wordlist[1]\n",
    "    return first[0] == second[0]\n"
   ]
  },
  {
   "cell_type": "code",
   "execution_count": 20,
   "id": "6d87c7a3",
   "metadata": {},
   "outputs": [
    {
     "data": {
      "text/plain": [
       "False"
      ]
     },
     "execution_count": 20,
     "metadata": {},
     "output_type": "execute_result"
    }
   ],
   "source": [
    " animal_crackers('leopard boar')"
   ]
  },
  {
   "cell_type": "code",
   "execution_count": 16,
   "id": "991dfeaa",
   "metadata": {},
   "outputs": [
    {
     "data": {
      "text/plain": [
       "True"
      ]
     },
     "execution_count": 16,
     "metadata": {},
     "output_type": "execute_result"
    }
   ],
   "source": [
    "animal_crackers('Leopard Lion')"
   ]
  },
  {
   "cell_type": "code",
   "execution_count": 19,
   "id": "4d5f2084",
   "metadata": {},
   "outputs": [],
   "source": [
    "def animal_crackers(text):\n",
    "    wordlist = text.lower().split()\n",
    "    return wordlist[0][0] == wordlist[1][0]"
   ]
  },
  {
   "cell_type": "code",
   "execution_count": 21,
   "id": "987bb5e0",
   "metadata": {},
   "outputs": [
    {
     "data": {
      "text/plain": [
       "True"
      ]
     },
     "execution_count": 21,
     "metadata": {},
     "output_type": "execute_result"
    }
   ],
   "source": [
    "animal_crackers('cat cow')"
   ]
  },
  {
   "cell_type": "code",
   "execution_count": 22,
   "id": "5a21980f",
   "metadata": {},
   "outputs": [
    {
     "data": {
      "text/plain": [
       "False"
      ]
     },
     "execution_count": 22,
     "metadata": {},
     "output_type": "execute_result"
    }
   ],
   "source": [
    "animal_crackers('dragon unicorn')"
   ]
  },
  {
   "cell_type": "code",
   "execution_count": 26,
   "id": "ce1bb200",
   "metadata": {},
   "outputs": [],
   "source": [
    "def makes_twenty(n1,n2):\n",
    "    if n1+n2 == 20:\n",
    "        return True\n",
    "    elif n1 == 20:\n",
    "        return True\n",
    "    elif n2 == 20:\n",
    "        return True\n",
    "    else:\n",
    "        return False\n"
   ]
  },
  {
   "cell_type": "code",
   "execution_count": 27,
   "id": "a660712f",
   "metadata": {},
   "outputs": [
    {
     "data": {
      "text/plain": [
       "True"
      ]
     },
     "execution_count": 27,
     "metadata": {},
     "output_type": "execute_result"
    }
   ],
   "source": [
    "makes_twenty(10,10)"
   ]
  },
  {
   "cell_type": "code",
   "execution_count": 28,
   "id": "b2c8d82b",
   "metadata": {},
   "outputs": [
    {
     "data": {
      "text/plain": [
       "False"
      ]
     },
     "execution_count": 28,
     "metadata": {},
     "output_type": "execute_result"
    }
   ],
   "source": [
    "makes_twenty(9,1)"
   ]
  },
  {
   "cell_type": "code",
   "execution_count": 29,
   "id": "841cdd68",
   "metadata": {},
   "outputs": [],
   "source": [
    "def makes_twenty(n1,n2):\n",
    "    return n1+n2 == 20 or n1 == 20 or n2 == 20"
   ]
  },
  {
   "cell_type": "code",
   "execution_count": 30,
   "id": "016bd666",
   "metadata": {},
   "outputs": [
    {
     "data": {
      "text/plain": [
       "False"
      ]
     },
     "execution_count": 30,
     "metadata": {},
     "output_type": "execute_result"
    }
   ],
   "source": [
    "makes_twenty(10,0)"
   ]
  },
  {
   "cell_type": "code",
   "execution_count": 31,
   "id": "b11a380a",
   "metadata": {},
   "outputs": [
    {
     "data": {
      "text/plain": [
       "False"
      ]
     },
     "execution_count": 31,
     "metadata": {},
     "output_type": "execute_result"
    }
   ],
   "source": [
    "makes_twenty(60,10)"
   ]
  },
  {
   "cell_type": "code",
   "execution_count": 32,
   "id": "eab2147e",
   "metadata": {},
   "outputs": [],
   "source": [
    "def old_macdonald(name):\n",
    "    first = name[0]\n",
    "    in_between = name[1:3]\n",
    "    fourth = name[3]\n",
    "    rest = name[4:]\n",
    "    return first.upper()+in_between+fourth.upper()+rest\n"
   ]
  },
  {
   "cell_type": "code",
   "execution_count": 33,
   "id": "5c303051",
   "metadata": {},
   "outputs": [
    {
     "data": {
      "text/plain": [
       "'MacDonald'"
      ]
     },
     "execution_count": 33,
     "metadata": {},
     "output_type": "execute_result"
    }
   ],
   "source": [
    "old_macdonald('macdonald')"
   ]
  },
  {
   "cell_type": "code",
   "execution_count": 34,
   "id": "53132828",
   "metadata": {},
   "outputs": [],
   "source": [
    "def old_macdonald(name):\n",
    "    first_half = name[:3]\n",
    "    second_half = name[3:]\n",
    "    return first_half.capitalize() + second_half.capitalize()"
   ]
  },
  {
   "cell_type": "code",
   "execution_count": 35,
   "id": "aefe55dc",
   "metadata": {},
   "outputs": [
    {
     "data": {
      "text/plain": [
       "'MacDonald'"
      ]
     },
     "execution_count": 35,
     "metadata": {},
     "output_type": "execute_result"
    }
   ],
   "source": [
    "old_macdonald('macdonald')"
   ]
  },
  {
   "cell_type": "code",
   "execution_count": 36,
   "id": "631f0b1e",
   "metadata": {},
   "outputs": [],
   "source": [
    "def master_yoda(text):\n",
    "    wordlist = text.split()\n",
    "    rev = wordlist[::-1]\n",
    "    return rev"
   ]
  },
  {
   "cell_type": "code",
   "execution_count": 37,
   "id": "42472832",
   "metadata": {},
   "outputs": [
    {
     "data": {
      "text/plain": [
       "['lakpa', 'am', 'I']"
      ]
     },
     "execution_count": 37,
     "metadata": {},
     "output_type": "execute_result"
    }
   ],
   "source": [
    "master_yoda('I am lakpa')"
   ]
  },
  {
   "cell_type": "code",
   "execution_count": 38,
   "id": "0ab6835c",
   "metadata": {},
   "outputs": [
    {
     "data": {
      "text/plain": [
       "['I', 'am', 'lakpa']"
      ]
     },
     "execution_count": 38,
     "metadata": {},
     "output_type": "execute_result"
    }
   ],
   "source": [
    "master_yoda('lakpa am I')"
   ]
  },
  {
   "cell_type": "code",
   "execution_count": 40,
   "id": "97dfd004",
   "metadata": {},
   "outputs": [
    {
     "data": {
      "text/plain": [
       "'a---b---c'"
      ]
     },
     "execution_count": 40,
     "metadata": {},
     "output_type": "execute_result"
    }
   ],
   "source": [
    "mylist = ['a','b','c']\n",
    "'---'.join(mylist)"
   ]
  },
  {
   "cell_type": "code",
   "execution_count": 41,
   "id": "58389466",
   "metadata": {},
   "outputs": [
    {
     "data": {
      "text/plain": [
       "'a b c'"
      ]
     },
     "execution_count": 41,
     "metadata": {},
     "output_type": "execute_result"
    }
   ],
   "source": [
    "mylist = ['a','b','c']\n",
    "' '.join(mylist)"
   ]
  },
  {
   "cell_type": "code",
   "execution_count": 42,
   "id": "ff06527b",
   "metadata": {},
   "outputs": [
    {
     "data": {
      "text/plain": [
       "'abc'"
      ]
     },
     "execution_count": 42,
     "metadata": {},
     "output_type": "execute_result"
    }
   ],
   "source": [
    "mylist = ['a','b','c']\n",
    "''.join(mylist)"
   ]
  },
  {
   "cell_type": "code",
   "execution_count": 44,
   "id": "9a38fa54",
   "metadata": {},
   "outputs": [
    {
     "data": {
      "text/plain": [
       "'loooaoookooopoooa'"
      ]
     },
     "execution_count": 44,
     "metadata": {},
     "output_type": "execute_result"
    }
   ],
   "source": [
    "mylist = [\"l\",\"a\",\"k\",\"p\",\"a\"]\n",
    "'ooo'.join(mylist)"
   ]
  },
  {
   "cell_type": "code",
   "execution_count": 45,
   "id": "9a8a9f24",
   "metadata": {},
   "outputs": [],
   "source": [
    "def master_yoda(text):\n",
    "    wordlist = text.split()\n",
    "    rev = wordlist[::-1]\n",
    "    return ' '.join(rev)"
   ]
  },
  {
   "cell_type": "code",
   "execution_count": 46,
   "id": "090e17cc",
   "metadata": {},
   "outputs": [
    {
     "data": {
      "text/plain": [
       "'nayan am I'"
      ]
     },
     "execution_count": 46,
     "metadata": {},
     "output_type": "execute_result"
    }
   ],
   "source": [
    "master_yoda('I am nayan')"
   ]
  },
  {
   "cell_type": "code",
   "execution_count": 47,
   "id": "603e2e81",
   "metadata": {},
   "outputs": [
    {
     "data": {
      "text/plain": [
       "'moondeep iam'"
      ]
     },
     "execution_count": 47,
     "metadata": {},
     "output_type": "execute_result"
    }
   ],
   "source": [
    "master_yoda('iam moondeep')"
   ]
  },
  {
   "cell_type": "code",
   "execution_count": 48,
   "id": "3f598fc4",
   "metadata": {},
   "outputs": [],
   "source": [
    "def almost_there(n):\n",
    "    return (100-n)<=10 or (200 - n)<=10"
   ]
  },
  {
   "cell_type": "code",
   "execution_count": 49,
   "id": "ab11c999",
   "metadata": {},
   "outputs": [
    {
     "data": {
      "text/plain": [
       "True"
      ]
     },
     "execution_count": 49,
     "metadata": {},
     "output_type": "execute_result"
    }
   ],
   "source": [
    "almost_there(90)"
   ]
  },
  {
   "cell_type": "code",
   "execution_count": 50,
   "id": "60d554bc",
   "metadata": {},
   "outputs": [
    {
     "data": {
      "text/plain": [
       "True"
      ]
     },
     "execution_count": 50,
     "metadata": {},
     "output_type": "execute_result"
    }
   ],
   "source": [
    "almost_there(140)"
   ]
  },
  {
   "cell_type": "code",
   "execution_count": 51,
   "id": "77aeee80",
   "metadata": {},
   "outputs": [
    {
     "data": {
      "text/plain": [
       "False"
      ]
     },
     "execution_count": 51,
     "metadata": {},
     "output_type": "execute_result"
    }
   ],
   "source": [
    "almost_there(40)"
   ]
  },
  {
   "cell_type": "code",
   "execution_count": 52,
   "id": "ea2290f4",
   "metadata": {},
   "outputs": [],
   "source": [
    "def almost_there(n):\n",
    "    return abs(100-n)<=10 or abs(200 - n)<=10\n"
   ]
  },
  {
   "cell_type": "code",
   "execution_count": 53,
   "id": "1b6ece2a",
   "metadata": {},
   "outputs": [
    {
     "data": {
      "text/plain": [
       "True"
      ]
     },
     "execution_count": 53,
     "metadata": {},
     "output_type": "execute_result"
    }
   ],
   "source": [
    "almost_there(90)"
   ]
  },
  {
   "cell_type": "code",
   "execution_count": 54,
   "id": "a31af188",
   "metadata": {},
   "outputs": [
    {
     "data": {
      "text/plain": [
       "False"
      ]
     },
     "execution_count": 54,
     "metadata": {},
     "output_type": "execute_result"
    }
   ],
   "source": [
    "almost_there(30)"
   ]
  },
  {
   "cell_type": "code",
   "execution_count": 55,
   "id": "93ee0195",
   "metadata": {},
   "outputs": [
    {
     "data": {
      "text/plain": [
       "False"
      ]
     },
     "execution_count": 55,
     "metadata": {},
     "output_type": "execute_result"
    }
   ],
   "source": [
    "almost_there(20)"
   ]
  },
  {
   "cell_type": "code",
   "execution_count": 57,
   "id": "f1c0ffda",
   "metadata": {},
   "outputs": [],
   "source": [
    "def has_33(nums):\n",
    "    for i in range(0,len(nums)-1):\n",
    "        if nums[i] == 3 and nums[i+1] == 3:\n",
    "            return True\n",
    "    return False\n"
   ]
  },
  {
   "cell_type": "code",
   "execution_count": 59,
   "id": "b28ab745",
   "metadata": {},
   "outputs": [
    {
     "data": {
      "text/plain": [
       "False"
      ]
     },
     "execution_count": 59,
     "metadata": {},
     "output_type": "execute_result"
    }
   ],
   "source": [
    "has_33([4, 2, 3])"
   ]
  },
  {
   "cell_type": "code",
   "execution_count": 60,
   "id": "9114325d",
   "metadata": {},
   "outputs": [
    {
     "data": {
      "text/plain": [
       "False"
      ]
     },
     "execution_count": 60,
     "metadata": {},
     "output_type": "execute_result"
    }
   ],
   "source": [
    "has_33([1, 3, 6])"
   ]
  },
  {
   "cell_type": "code",
   "execution_count": 61,
   "id": "129f51ca",
   "metadata": {},
   "outputs": [
    {
     "data": {
      "text/plain": [
       "True"
      ]
     },
     "execution_count": 61,
     "metadata": {},
     "output_type": "execute_result"
    }
   ],
   "source": [
    "has_33([3, 3, 3])\n"
   ]
  },
  {
   "cell_type": "code",
   "execution_count": 62,
   "id": "dda562b6",
   "metadata": {},
   "outputs": [],
   "source": [
    "def has_33(nums):\n",
    "    for i in range(0,len(nums)-1):\n",
    "        if nums[i:i+2] == [3,3]: \n",
    "            return True\n",
    "    return False\n"
   ]
  },
  {
   "cell_type": "code",
   "execution_count": 63,
   "id": "dd02ed83",
   "metadata": {},
   "outputs": [
    {
     "data": {
      "text/plain": [
       "False"
      ]
     },
     "execution_count": 63,
     "metadata": {},
     "output_type": "execute_result"
    }
   ],
   "source": [
    " has_33([1, 1, 1, 3])"
   ]
  },
  {
   "cell_type": "code",
   "execution_count": 64,
   "id": "269f0e0d",
   "metadata": {},
   "outputs": [
    {
     "data": {
      "text/plain": [
       "True"
      ]
     },
     "execution_count": 64,
     "metadata": {},
     "output_type": "execute_result"
    }
   ],
   "source": [
    "has_33([1, 3, 3])"
   ]
  },
  {
   "cell_type": "code",
   "execution_count": 65,
   "id": "146ff203",
   "metadata": {},
   "outputs": [
    {
     "data": {
      "text/plain": [
       "False"
      ]
     },
     "execution_count": 65,
     "metadata": {},
     "output_type": "execute_result"
    }
   ],
   "source": [
    "has_33([1, 3, 1, 4])"
   ]
  },
  {
   "cell_type": "code",
   "execution_count": 66,
   "id": "c8ce1da0",
   "metadata": {},
   "outputs": [],
   "source": [
    "def paper_doll(text):\n",
    "    result = ''\n",
    "    for char in text:\n",
    "        result += char*3\n",
    "    return result "
   ]
  },
  {
   "cell_type": "code",
   "execution_count": 67,
   "id": "944bab45",
   "metadata": {},
   "outputs": [
    {
     "data": {
      "text/plain": [
       "'HHHeeellllllooo'"
      ]
     },
     "execution_count": 67,
     "metadata": {},
     "output_type": "execute_result"
    }
   ],
   "source": [
    "paper_doll('Hello')"
   ]
  },
  {
   "cell_type": "code",
   "execution_count": 68,
   "id": "ba5cfedf",
   "metadata": {},
   "outputs": [
    {
     "data": {
      "text/plain": [
       "'lllaaakkkpppaaa'"
      ]
     },
     "execution_count": 68,
     "metadata": {},
     "output_type": "execute_result"
    }
   ],
   "source": [
    "paper_doll('lakpa')"
   ]
  },
  {
   "cell_type": "code",
   "execution_count": 69,
   "id": "cd782271",
   "metadata": {},
   "outputs": [],
   "source": [
    "def blackjack(a,b,c):\n",
    "    if sum([a,b,c])<=21:\n",
    "        return sum([a,b,c])\n",
    "    elif 11 in [a,b,c] and sum([a,b,c])-10<=21:\n",
    "        return sum([a,b,c])-10\n",
    "    else:\n",
    "        return 'BUST'\n"
   ]
  },
  {
   "cell_type": "code",
   "execution_count": 70,
   "id": "6ec7fdda",
   "metadata": {},
   "outputs": [
    {
     "data": {
      "text/plain": [
       "18"
      ]
     },
     "execution_count": 70,
     "metadata": {},
     "output_type": "execute_result"
    }
   ],
   "source": [
    "blackjack(5,6,7)"
   ]
  },
  {
   "cell_type": "code",
   "execution_count": 71,
   "id": "d613d3e5",
   "metadata": {},
   "outputs": [
    {
     "data": {
      "text/plain": [
       "12"
      ]
     },
     "execution_count": 71,
     "metadata": {},
     "output_type": "execute_result"
    }
   ],
   "source": [
    "blackjack(5,3,4)"
   ]
  },
  {
   "cell_type": "code",
   "execution_count": 72,
   "id": "e64306a4",
   "metadata": {},
   "outputs": [
    {
     "data": {
      "text/plain": [
       "'BUST'"
      ]
     },
     "execution_count": 72,
     "metadata": {},
     "output_type": "execute_result"
    }
   ],
   "source": [
    "blackjack(10,9,8)"
   ]
  },
  {
   "cell_type": "code",
   "execution_count": 73,
   "id": "9ed6d715",
   "metadata": {},
   "outputs": [],
   "source": [
    "def summer_69(arr):\n",
    "    total = 0\n",
    "    add = True\n",
    "    for num in arr:\n",
    "        while add:\n",
    "            if num !=6:\n",
    "                total += num\n",
    "                break\n",
    "            else:\n",
    "                add =False\n",
    "        while not add:\n",
    "            if num!=9:\n",
    "                break\n",
    "            else:\n",
    "                add =True\n",
    "                break\n",
    "    return total \n"
   ]
  },
  {
   "cell_type": "code",
   "execution_count": 74,
   "id": "1bd8be30",
   "metadata": {},
   "outputs": [
    {
     "data": {
      "text/plain": [
       "6"
      ]
     },
     "execution_count": 74,
     "metadata": {},
     "output_type": "execute_result"
    }
   ],
   "source": [
    "summer_69([1, 2, 3])"
   ]
  },
  {
   "cell_type": "code",
   "execution_count": 75,
   "id": "8cfe043c",
   "metadata": {},
   "outputs": [
    {
     "data": {
      "text/plain": [
       "9"
      ]
     },
     "execution_count": 75,
     "metadata": {},
     "output_type": "execute_result"
    }
   ],
   "source": [
    "summer_69([1, 3, 5, 6, 7, 8])"
   ]
  },
  {
   "cell_type": "code",
   "execution_count": 76,
   "id": "ea9acf4f",
   "metadata": {},
   "outputs": [
    {
     "data": {
      "text/plain": [
       "29"
      ]
     },
     "execution_count": 76,
     "metadata": {},
     "output_type": "execute_result"
    }
   ],
   "source": [
    "summer_69([1, 3, 7, 8, 10])\n"
   ]
  },
  {
   "cell_type": "code",
   "execution_count": 77,
   "id": "9456b565",
   "metadata": {},
   "outputs": [],
   "source": [
    "def spy_game(nums):\n",
    "    code = [0,0,7,'x']\n",
    "    for num in nums:\n",
    "        if num == code[0]:\n",
    "            code.pop(0)\n",
    " \n",
    "    return len(code) == 1 "
   ]
  },
  {
   "cell_type": "code",
   "execution_count": 78,
   "id": "e2b085ea",
   "metadata": {},
   "outputs": [
    {
     "data": {
      "text/plain": [
       "True"
      ]
     },
     "execution_count": 78,
     "metadata": {},
     "output_type": "execute_result"
    }
   ],
   "source": [
    "spy_game([1,2,4,0,0,7,6])"
   ]
  },
  {
   "cell_type": "code",
   "execution_count": 79,
   "id": "1e12dece",
   "metadata": {},
   "outputs": [
    {
     "data": {
      "text/plain": [
       "False"
      ]
     },
     "execution_count": 79,
     "metadata": {},
     "output_type": "execute_result"
    }
   ],
   "source": [
    "spy_game([1,2,4,0,5])"
   ]
  },
  {
   "cell_type": "code",
   "execution_count": 80,
   "id": "9025c61d",
   "metadata": {},
   "outputs": [
    {
     "data": {
      "text/plain": [
       "False"
      ]
     },
     "execution_count": 80,
     "metadata": {},
     "output_type": "execute_result"
    }
   ],
   "source": [
    "spy_game([1,2,0,7,5])"
   ]
  },
  {
   "cell_type": "code",
   "execution_count": 81,
   "id": "d02fe95b",
   "metadata": {},
   "outputs": [],
   "source": [
    "def count_primes(num):\n",
    "    if num < 2:\n",
    "        return 0\n",
    "    primes = [2]\n",
    "    x=3\n",
    "    while x<=num:\n",
    "        for y in range(3,x,2):\n",
    "            if x%y==0:\n",
    "                x += 2\n",
    "                break\n",
    "                \n",
    "    else:\n",
    "        primes.append(x)\n",
    "        x += 2\n",
    "    print(primes)\n",
    "    return len(primes)     "
   ]
  },
  {
   "cell_type": "code",
   "execution_count": null,
   "id": "1ea12b91",
   "metadata": {},
   "outputs": [],
   "source": [
    "count_primes(100)"
   ]
  },
  {
   "cell_type": "code",
   "execution_count": null,
   "id": "f35f0311",
   "metadata": {},
   "outputs": [],
   "source": []
  }
 ],
 "metadata": {
  "kernelspec": {
   "display_name": "Python 3 (ipykernel)",
   "language": "python",
   "name": "python3"
  },
  "language_info": {
   "codemirror_mode": {
    "name": "ipython",
    "version": 3
   },
   "file_extension": ".py",
   "mimetype": "text/x-python",
   "name": "python",
   "nbconvert_exporter": "python",
   "pygments_lexer": "ipython3",
   "version": "3.10.9"
  }
 },
 "nbformat": 4,
 "nbformat_minor": 5
}

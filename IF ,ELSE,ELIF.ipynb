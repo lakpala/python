{
 "cells": [
  {
   "cell_type": "code",
   "execution_count": 20,
   "id": "aa05155b",
   "metadata": {},
   "outputs": [],
   "source": [
    "#if, else, elif statements ."
   ]
  },
  {
   "cell_type": "code",
   "execution_count": 21,
   "id": "fed254d8",
   "metadata": {},
   "outputs": [
    {
     "name": "stdout",
     "output_type": "stream",
     "text": [
      "feed me\n"
     ]
    }
   ],
   "source": [
    "hungry = True\n",
    "if hungry:\n",
    "    print('feed me')"
   ]
  },
  {
   "cell_type": "code",
   "execution_count": 22,
   "id": "3d19ec3f",
   "metadata": {},
   "outputs": [
    {
     "name": "stdout",
     "output_type": "stream",
     "text": [
      "I'm not hungry\n"
     ]
    }
   ],
   "source": [
    "hungry = False\n",
    "if hungry:\n",
    "    print('feed me')\n",
    "else:\n",
    "    print(\"I'm not hungry\")"
   ]
  },
  {
   "cell_type": "code",
   "execution_count": 3,
   "id": "13f96113",
   "metadata": {},
   "outputs": [
    {
     "name": "stdout",
     "output_type": "stream",
     "text": [
      "i do not know much\n"
     ]
    }
   ],
   "source": [
    "loc = \"Bank\"\n",
    "if loc == \"Auto shop\":\n",
    "    print(\"cars are cool\")\n",
    "else:\n",
    "    print(\"i do not know much\")"
   ]
  },
  {
   "cell_type": "code",
   "execution_count": 2,
   "id": "17075aa9",
   "metadata": {},
   "outputs": [
    {
     "name": "stdout",
     "output_type": "stream",
     "text": [
      "welcome to the store!\n"
     ]
    }
   ],
   "source": [
    "loc = \"store\"\n",
    "if loc == \"Auto shop\":\n",
    "    print(\"cars are cool\")\n",
    "elif loc ==\"bank\":\n",
    "    print(\"money is cool$$\")\n",
    "elif loc == \"store\":\n",
    "    print(\"welcome to the store!\")\n",
    "else:\n",
    "    print(\"i do not know much\")"
   ]
  },
  {
   "cell_type": "code",
   "execution_count": 4,
   "id": "3b4eff8d",
   "metadata": {},
   "outputs": [
    {
     "name": "stdout",
     "output_type": "stream",
     "text": [
      "you are not needed now\n"
     ]
    }
   ],
   "source": [
    "name = \"lakpa\"\n",
    "if name ==\"muktey\":\n",
    "    print (\"come to the university daily!\")\n",
    "elif name == \"nayan\":\n",
    "    print (\"have your food and came to class\")\n",
    "elif name == \"abishek\":\n",
    "    print(\"do not make my meme\")\n",
    "else:\n",
    "    print (\"you are not needed now\")"
   ]
  },
  {
   "cell_type": "code",
   "execution_count": 5,
   "id": "73d31e06",
   "metadata": {},
   "outputs": [],
   "source": [
    "#for loops"
   ]
  },
  {
   "cell_type": "code",
   "execution_count": 6,
   "id": "2cd329f5",
   "metadata": {},
   "outputs": [
    {
     "name": "stdout",
     "output_type": "stream",
     "text": [
      "1\n",
      "2\n",
      "3\n"
     ]
    }
   ],
   "source": [
    "my_iterable = [1,2,3]\n",
    "for happy in my_iterable:\n",
    "    print(happy)"
   ]
  },
  {
   "cell_type": "code",
   "execution_count": 7,
   "id": "0d57e3e5",
   "metadata": {},
   "outputs": [
    {
     "name": "stdout",
     "output_type": "stream",
     "text": [
      "lakpa\n",
      "lakpa\n",
      "lakpa\n",
      "lakpa\n",
      "lakpa\n",
      "lakpa\n",
      "lakpa\n",
      "lakpa\n"
     ]
    }
   ],
   "source": [
    "mylist = [1,2,3,4,5,6,7,8]\n",
    "for num in mylist:\n",
    "    print (\"lakpa\")"
   ]
  },
  {
   "cell_type": "code",
   "execution_count": 8,
   "id": "4602b79d",
   "metadata": {},
   "outputs": [
    {
     "name": "stdout",
     "output_type": "stream",
     "text": [
      "2\n",
      "4\n",
      "6\n",
      "8\n",
      "10\n"
     ]
    }
   ],
   "source": [
    "mylist =[1,2,3,4,5,6,7,8,9,10]\n",
    "for num in mylist:\n",
    "    if num % 2 == 0:\n",
    "        print(num)"
   ]
  },
  {
   "cell_type": "code",
   "execution_count": 9,
   "id": "95b092a3",
   "metadata": {},
   "outputs": [
    {
     "name": "stdout",
     "output_type": "stream",
     "text": [
      "odd number1\n",
      "2\n",
      "odd number3\n",
      "4\n",
      "odd number5\n",
      "6\n",
      "odd number7\n",
      "8\n",
      "odd number9\n",
      "10\n"
     ]
    }
   ],
   "source": [
    "mylist =[1,2,3,4,5,6,7,8,9,10]\n",
    "for num in mylist:\n",
    "    if num % 2 == 0:\n",
    "        print(num)\n",
    "    else:\n",
    "        print(f'odd number{num}')"
   ]
  },
  {
   "cell_type": "code",
   "execution_count": 12,
   "id": "214c902a",
   "metadata": {},
   "outputs": [
    {
     "name": "stdout",
     "output_type": "stream",
     "text": [
      "1\n",
      "3\n",
      "6\n",
      "10\n",
      "15\n",
      "21\n",
      "28\n",
      "36\n",
      "45\n",
      "55\n"
     ]
    }
   ],
   "source": [
    "mylist = [1,2,3,4,5,6,7,8,9,10]\n",
    "list_sum = 0\n",
    "for num in mylist:\n",
    "    list_sum = list_sum + num\n",
    "    print(list_sum)"
   ]
  },
  {
   "cell_type": "code",
   "execution_count": null,
   "id": "7569732d",
   "metadata": {},
   "outputs": [],
   "source": []
  }
 ],
 "metadata": {
  "kernelspec": {
   "display_name": "Python 3 (ipykernel)",
   "language": "python",
   "name": "python3"
  },
  "language_info": {
   "codemirror_mode": {
    "name": "ipython",
    "version": 3
   },
   "file_extension": ".py",
   "mimetype": "text/x-python",
   "name": "python",
   "nbconvert_exporter": "python",
   "pygments_lexer": "ipython3",
   "version": "3.10.9"
  }
 },
 "nbformat": 4,
 "nbformat_minor": 5
}

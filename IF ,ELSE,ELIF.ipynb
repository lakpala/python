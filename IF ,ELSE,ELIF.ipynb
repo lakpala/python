{
 "cells": [
  {
   "cell_type": "code",
   "execution_count": null,
   "id": "aa05155b",
   "metadata": {},
   "outputs": [],
   "source": [
    "#if, else, elif statements ."
   ]
  },
  {
   "cell_type": "code",
   "execution_count": null,
   "id": "fed254d8",
   "metadata": {},
   "outputs": [],
   "source": [
    "hungry = True\n",
    "if hungry:\n",
    "    print('feed me')"
   ]
  },
  {
   "cell_type": "code",
   "execution_count": null,
   "id": "3d19ec3f",
   "metadata": {},
   "outputs": [],
   "source": [
    "hungry = False\n",
    "if hungry:\n",
    "    print('feed me')\n",
    "else:\n",
    "    print(\"I'm not hungry\")"
   ]
  },
  {
   "cell_type": "code",
   "execution_count": null,
   "id": "13f96113",
   "metadata": {},
   "outputs": [],
   "source": [
    "loc = \"Bank\"\n",
    "if loc == \"Auto shop\":\n",
    "    print(\"cars are cool\")\n",
    "else:\n",
    "    print(\"i do not know much\")"
   ]
  },
  {
   "cell_type": "code",
   "execution_count": null,
   "id": "17075aa9",
   "metadata": {},
   "outputs": [],
   "source": [
    "loc = \"store\"\n",
    "if loc == \"Auto shop\":\n",
    "    print(\"cars are cool\")\n",
    "elif loc ==\"bank\":\n",
    "    print(\"money is cool$$\")\n",
    "elif loc == \"store\":\n",
    "    print(\"welcome to the store!\")\n",
    "else:\n",
    "    print(\"i do not know much\")"
   ]
  },
  {
   "cell_type": "code",
   "execution_count": null,
   "id": "3b4eff8d",
   "metadata": {},
   "outputs": [],
   "source": [
    "name = \"lakpa\"\n",
    "if name ==\"muktey\":\n",
    "    print (\"come to the university daily!\")\n",
    "elif name == \"nayan\":\n",
    "    print (\"have your food and came to class\")\n",
    "elif name == \"abishek\":\n",
    "    print(\"do not make my meme\")\n",
    "else:\n",
    "    print (\"you are not needed now\")"
   ]
  },
  {
   "cell_type": "code",
   "execution_count": null,
   "id": "73d31e06",
   "metadata": {},
   "outputs": [],
   "source": [
    "#for loops"
   ]
  },
  {
   "cell_type": "code",
   "execution_count": null,
   "id": "2cd329f5",
   "metadata": {},
   "outputs": [],
   "source": [
    "my_iterable = [1,2,3]\n",
    "for happy in my_iterable:\n",
    "    print(happy)"
   ]
  },
  {
   "cell_type": "code",
   "execution_count": null,
   "id": "0d57e3e5",
   "metadata": {},
   "outputs": [],
   "source": [
    "mylist = [1,2,3,4,5,6,7,8]\n",
    "for num in mylist:\n",
    "    print (\"lakpa\")"
   ]
  },
  {
   "cell_type": "code",
   "execution_count": null,
   "id": "4602b79d",
   "metadata": {},
   "outputs": [],
   "source": [
    "mylist =[1,2,3,4,5,6,7,8,9,10]\n",
    "for num in mylist:\n",
    "    if num % 2 == 0:\n",
    "        print(num)"
   ]
  },
  {
   "cell_type": "code",
   "execution_count": null,
   "id": "95b092a3",
   "metadata": {},
   "outputs": [],
   "source": [
    "mylist =[1,2,3,4,5,6,7,8,9,10]\n",
    "for num in mylist:\n",
    "    if num % 2 == 0:\n",
    "        print(num)\n",
    "    else:\n",
    "        print(f'odd number{num}')"
   ]
  },
  {
   "cell_type": "code",
   "execution_count": null,
   "id": "214c902a",
   "metadata": {},
   "outputs": [],
   "source": [
    "mylist = [1,2,3,4,5,6,7,8,9,10]\n",
    "list_sum = 0\n",
    "for num in mylist:\n",
    "    list_sum = list_sum + num\n",
    "    print(list_sum)"
   ]
  },
  {
   "cell_type": "code",
   "execution_count": null,
   "id": "7569732d",
   "metadata": {},
   "outputs": [],
   "source": [
    "mystring =\"hello world\"\n",
    "for letter in mystring:\n",
    "    print (letter)"
   ]
  },
  {
   "cell_type": "code",
   "execution_count": null,
   "id": "587a6e9a",
   "metadata": {},
   "outputs": [],
   "source": [
    "for _ in \"Medhavi\":\n",
    "    print('happy')"
   ]
  },
  {
   "cell_type": "code",
   "execution_count": null,
   "id": "34bba534",
   "metadata": {},
   "outputs": [],
   "source": [
    "mylist= [(1,2),(3,4),(5,6),(7,8),(8,9)]\n",
    "for a,b in mylist:\n",
    "    print(a)\n",
    "    print(b)"
   ]
  },
  {
   "cell_type": "code",
   "execution_count": null,
   "id": "e90931b3",
   "metadata": {},
   "outputs": [],
   "source": [
    "mylist = [(1,2,3),(4,5,6),(8,9,10)]\n",
    "for fv1,fv2,fv3 in mylist:\n",
    "    print (fv1)\n",
    "    print (fv2)\n",
    "    print (fv3)"
   ]
  },
  {
   "cell_type": "code",
   "execution_count": null,
   "id": "08af6c75",
   "metadata": {},
   "outputs": [],
   "source": [
    "d = {\"k1\":1,\"k2\":2,\"k3\":3}\n",
    "for item in d.keys():\n",
    "    print(item)"
   ]
  },
  {
   "cell_type": "code",
   "execution_count": null,
   "id": "5d422196",
   "metadata": {},
   "outputs": [],
   "source": [
    "d = {\"k1\":1,\"k2\":2,\"k3\":3}\n",
    "for key,value i\n",
    "    print(value)"
   ]
  },
  {
   "cell_type": "code",
   "execution_count": null,
   "id": "308e3607",
   "metadata": {},
   "outputs": [],
   "source": [
    "#while loops in python"
   ]
  },
  {
   "cell_type": "code",
   "execution_count": null,
   "id": "d27a01ef",
   "metadata": {},
   "outputs": [],
   "source": [
    "#while boolien_condition:\n",
    "      #do something\n",
    "#else:\n",
    "      #do something else"
   ]
  },
  {
   "cell_type": "code",
   "execution_count": null,
   "id": "3482cc35",
   "metadata": {},
   "outputs": [],
   "source": []
  },
  {
   "cell_type": "code",
   "execution_count": null,
   "id": "299176aa",
   "metadata": {},
   "outputs": [],
   "source": [
    "#BREAK,CONTINUE,PASS\n"
   ]
  },
  {
   "cell_type": "code",
   "execution_count": null,
   "id": "b5771f05",
   "metadata": {},
   "outputs": [],
   "source": []
  }
 ],
 "metadata": {
  "kernelspec": {
   "display_name": "Python 3 (ipykernel)",
   "language": "python",
   "name": "python3"
  },
  "language_info": {
   "codemirror_mode": {
    "name": "ipython",
    "version": 3
   },
   "file_extension": ".py",
   "mimetype": "text/x-python",
   "name": "python",
   "nbconvert_exporter": "python",
   "pygments_lexer": "ipython3",
   "version": "3.10.9"
  }
 },
 "nbformat": 4,
 "nbformat_minor": 5
}

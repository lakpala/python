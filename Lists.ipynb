{
 "cells": [
  {
   "cell_type": "code",
   "execution_count": 1,
   "id": "db863c1f",
   "metadata": {},
   "outputs": [],
   "source": [
    "#Lists"
   ]
  },
  {
   "cell_type": "code",
   "execution_count": 2,
   "id": "57557071",
   "metadata": {},
   "outputs": [],
   "source": [
    "my_list = [1,2,3,4,5]"
   ]
  },
  {
   "cell_type": "code",
   "execution_count": 3,
   "id": "598f1362",
   "metadata": {},
   "outputs": [
    {
     "data": {
      "text/plain": [
       "[1, 2, 3, 4, 5]"
      ]
     },
     "execution_count": 3,
     "metadata": {},
     "output_type": "execute_result"
    }
   ],
   "source": [
    "my_list"
   ]
  },
  {
   "cell_type": "code",
   "execution_count": 6,
   "id": "06aaac45",
   "metadata": {},
   "outputs": [],
   "source": [
    "mystring = 'hello'"
   ]
  },
  {
   "cell_type": "code",
   "execution_count": 8,
   "id": "e8bcee3d",
   "metadata": {},
   "outputs": [],
   "source": [
    "second_list = [4,5,'six']"
   ]
  },
  {
   "cell_type": "code",
   "execution_count": 9,
   "id": "059316cf",
   "metadata": {},
   "outputs": [],
   "source": [
    "second_list[0] = \"changed\""
   ]
  },
  {
   "cell_type": "code",
   "execution_count": 10,
   "id": "2f91ff1a",
   "metadata": {},
   "outputs": [
    {
     "data": {
      "text/plain": [
       "['changed', 5, 'six']"
      ]
     },
     "execution_count": 10,
     "metadata": {},
     "output_type": "execute_result"
    }
   ],
   "source": [
    "second_list"
   ]
  },
  {
   "cell_type": "code",
   "execution_count": 11,
   "id": "ab4433c8",
   "metadata": {},
   "outputs": [],
   "source": [
    "second_list.append('seven')"
   ]
  },
  {
   "cell_type": "code",
   "execution_count": 12,
   "id": "471bd459",
   "metadata": {},
   "outputs": [
    {
     "data": {
      "text/plain": [
       "['changed', 5, 'six', 'seven']"
      ]
     },
     "execution_count": 12,
     "metadata": {},
     "output_type": "execute_result"
    }
   ],
   "source": [
    "second_list"
   ]
  },
  {
   "cell_type": "code",
   "execution_count": 13,
   "id": "7b30f6b6",
   "metadata": {},
   "outputs": [
    {
     "data": {
      "text/plain": [
       "'seven'"
      ]
     },
     "execution_count": 13,
     "metadata": {},
     "output_type": "execute_result"
    }
   ],
   "source": [
    "second_list.pop()"
   ]
  },
  {
   "cell_type": "code",
   "execution_count": 14,
   "id": "c7e28497",
   "metadata": {},
   "outputs": [],
   "source": [
    "new_list = [2,33,'hi',4,5 ]"
   ]
  },
  {
   "cell_type": "code",
   "execution_count": 15,
   "id": "c203d65f",
   "metadata": {},
   "outputs": [
    {
     "data": {
      "text/plain": [
       "5"
      ]
     },
     "execution_count": 15,
     "metadata": {},
     "output_type": "execute_result"
    }
   ],
   "source": [
    "new_list[-1]"
   ]
  },
  {
   "cell_type": "code",
   "execution_count": 18,
   "id": "14ddaae8",
   "metadata": {},
   "outputs": [],
   "source": [
    "new_list = ['a','b','c','d']\n",
    "num_list = [1,2,3,4]"
   ]
  },
  {
   "cell_type": "code",
   "execution_count": 20,
   "id": "d3b9b091",
   "metadata": {},
   "outputs": [],
   "source": [
    "num_list.sort()"
   ]
  },
  {
   "cell_type": "code",
   "execution_count": 22,
   "id": "9aca96b4",
   "metadata": {},
   "outputs": [],
   "source": [
    "sorted_list = num_list"
   ]
  },
  {
   "cell_type": "code",
   "execution_count": 23,
   "id": "748bf9d7",
   "metadata": {},
   "outputs": [
    {
     "data": {
      "text/plain": [
       "[1, 2, 3, 4]"
      ]
     },
     "execution_count": 23,
     "metadata": {},
     "output_type": "execute_result"
    }
   ],
   "source": [
    "sorted_list"
   ]
  },
  {
   "cell_type": "code",
   "execution_count": 24,
   "id": "3ef8b622",
   "metadata": {},
   "outputs": [],
   "source": [
    "new_list.reverse()"
   ]
  },
  {
   "cell_type": "code",
   "execution_count": 25,
   "id": "6dc415bb",
   "metadata": {},
   "outputs": [],
   "source": [
    "reversed_list = new_list"
   ]
  },
  {
   "cell_type": "code",
   "execution_count": 26,
   "id": "fd0cc557",
   "metadata": {},
   "outputs": [
    {
     "data": {
      "text/plain": [
       "['d', 'c', 'b', 'a']"
      ]
     },
     "execution_count": 26,
     "metadata": {},
     "output_type": "execute_result"
    }
   ],
   "source": [
    "reversed_list"
   ]
  },
  {
   "cell_type": "code",
   "execution_count": 29,
   "id": "b3cc2c39",
   "metadata": {},
   "outputs": [],
   "source": [
    "my_list = [3,1,[1,2]]"
   ]
  },
  {
   "cell_type": "code",
   "execution_count": 30,
   "id": "962351a1",
   "metadata": {},
   "outputs": [
    {
     "data": {
      "text/plain": [
       "[3, 1, [1, 2]]"
      ]
     },
     "execution_count": 30,
     "metadata": {},
     "output_type": "execute_result"
    }
   ],
   "source": [
    "my_list"
   ]
  },
  {
   "cell_type": "code",
   "execution_count": 31,
   "id": "045fa164",
   "metadata": {},
   "outputs": [
    {
     "data": {
      "text/plain": [
       "3"
      ]
     },
     "execution_count": 31,
     "metadata": {},
     "output_type": "execute_result"
    }
   ],
   "source": [
    "my_list[0]"
   ]
  },
  {
   "cell_type": "code",
   "execution_count": 34,
   "id": "721f494b",
   "metadata": {},
   "outputs": [
    {
     "data": {
      "text/plain": [
       "2"
      ]
     },
     "execution_count": 34,
     "metadata": {},
     "output_type": "execute_result"
    }
   ],
   "source": [
    "my_list[2][1]"
   ]
  },
  {
   "cell_type": "code",
   "execution_count": 35,
   "id": "a7be4c16",
   "metadata": {},
   "outputs": [],
   "source": [
    "#Dictionories"
   ]
  },
  {
   "cell_type": "code",
   "execution_count": 42,
   "id": "7a770642",
   "metadata": {},
   "outputs": [],
   "source": [
    "My_dict = {'key1':'value1','key2':'value2','key3':'value3'}"
   ]
  },
  {
   "cell_type": "code",
   "execution_count": 45,
   "id": "5e9bd228",
   "metadata": {},
   "outputs": [
    {
     "data": {
      "text/plain": [
       "{'key1': 'value1', 'key2': 'value2', 'key3': 'value3'}"
      ]
     },
     "execution_count": 45,
     "metadata": {},
     "output_type": "execute_result"
    }
   ],
   "source": [
    "My_dict"
   ]
  },
  {
   "cell_type": "code",
   "execution_count": 46,
   "id": "24d30488",
   "metadata": {},
   "outputs": [
    {
     "data": {
      "text/plain": [
       "'value1'"
      ]
     },
     "execution_count": 46,
     "metadata": {},
     "output_type": "execute_result"
    }
   ],
   "source": [
    "my_dict['key1']"
   ]
  },
  {
   "cell_type": "code",
   "execution_count": 47,
   "id": "435c389e",
   "metadata": {},
   "outputs": [],
   "source": [
    "prices_lookup={'apple':200,'banana':90,'mango':70}"
   ]
  },
  {
   "cell_type": "code",
   "execution_count": 48,
   "id": "8637028d",
   "metadata": {},
   "outputs": [
    {
     "data": {
      "text/plain": [
       "{'apple': 200, 'banana': 90, 'mango': 70}"
      ]
     },
     "execution_count": 48,
     "metadata": {},
     "output_type": "execute_result"
    }
   ],
   "source": [
    "prices_lookup"
   ]
  },
  {
   "cell_type": "code",
   "execution_count": 49,
   "id": "e0339d20",
   "metadata": {},
   "outputs": [
    {
     "data": {
      "text/plain": [
       "200"
      ]
     },
     "execution_count": 49,
     "metadata": {},
     "output_type": "execute_result"
    }
   ],
   "source": [
    "prices_lookup['apple']"
   ]
  },
  {
   "cell_type": "code",
   "execution_count": 50,
   "id": "4d909dd6",
   "metadata": {},
   "outputs": [],
   "source": [
    "d = {'k1':100,'k2':[1,2,3],'k3':{'inside_key':100}}"
   ]
  },
  {
   "cell_type": "code",
   "execution_count": 51,
   "id": "45a0b36d",
   "metadata": {},
   "outputs": [
    {
     "data": {
      "text/plain": [
       "100"
      ]
     },
     "execution_count": 51,
     "metadata": {},
     "output_type": "execute_result"
    }
   ],
   "source": [
    "d['k1']"
   ]
  },
  {
   "cell_type": "code",
   "execution_count": 52,
   "id": "215bf109",
   "metadata": {},
   "outputs": [
    {
     "data": {
      "text/plain": [
       "2"
      ]
     },
     "execution_count": 52,
     "metadata": {},
     "output_type": "execute_result"
    }
   ],
   "source": [
    "d['k2'][1]"
   ]
  },
  {
   "cell_type": "code",
   "execution_count": 53,
   "id": "17a711ac",
   "metadata": {},
   "outputs": [
    {
     "data": {
      "text/plain": [
       "100"
      ]
     },
     "execution_count": 53,
     "metadata": {},
     "output_type": "execute_result"
    }
   ],
   "source": [
    "d['k3']['inside_key']"
   ]
  },
  {
   "cell_type": "code",
   "execution_count": 54,
   "id": "59e43cbf",
   "metadata": {},
   "outputs": [],
   "source": [
    "newdict = {'apple':200,'price_range':[100,200,150],'green_apples':{'price_range':120}}"
   ]
  },
  {
   "cell_type": "code",
   "execution_count": 55,
   "id": "946d72c1",
   "metadata": {},
   "outputs": [
    {
     "data": {
      "text/plain": [
       "{'apple': 200,\n",
       " 'price_range': [100, 200, 150],\n",
       " 'green_apples': {'price_range': 120}}"
      ]
     },
     "execution_count": 55,
     "metadata": {},
     "output_type": "execute_result"
    }
   ],
   "source": [
    "newdict"
   ]
  },
  {
   "cell_type": "code",
   "execution_count": 56,
   "id": "7189283d",
   "metadata": {},
   "outputs": [
    {
     "data": {
      "text/plain": [
       "200"
      ]
     },
     "execution_count": 56,
     "metadata": {},
     "output_type": "execute_result"
    }
   ],
   "source": [
    "newdict['apple']"
   ]
  },
  {
   "cell_type": "code",
   "execution_count": 58,
   "id": "32d7a3ba",
   "metadata": {},
   "outputs": [
    {
     "data": {
      "text/plain": [
       "150"
      ]
     },
     "execution_count": 58,
     "metadata": {},
     "output_type": "execute_result"
    }
   ],
   "source": [
    "newdict['price_range'][2]"
   ]
  },
  {
   "cell_type": "code",
   "execution_count": 61,
   "id": "b2bc6d9c",
   "metadata": {},
   "outputs": [
    {
     "data": {
      "text/plain": [
       "120"
      ]
     },
     "execution_count": 61,
     "metadata": {},
     "output_type": "execute_result"
    }
   ],
   "source": [
    "newdict['green_apples']['price_range']"
   ]
  },
  {
   "cell_type": "code",
   "execution_count": 62,
   "id": "218a089b",
   "metadata": {},
   "outputs": [],
   "source": [
    "d = {'k1':['a','b','c']}"
   ]
  },
  {
   "cell_type": "code",
   "execution_count": 63,
   "id": "db280f70",
   "metadata": {},
   "outputs": [],
   "source": [
    "letter = d['k1']"
   ]
  },
  {
   "cell_type": "code",
   "execution_count": 64,
   "id": "ce49c27e",
   "metadata": {},
   "outputs": [
    {
     "data": {
      "text/plain": [
       "['a', 'b', 'c']"
      ]
     },
     "execution_count": 64,
     "metadata": {},
     "output_type": "execute_result"
    }
   ],
   "source": [
    "letter"
   ]
  },
  {
   "cell_type": "code",
   "execution_count": 65,
   "id": "67671851",
   "metadata": {},
   "outputs": [],
   "source": [
    "myletter = letter[2]"
   ]
  },
  {
   "cell_type": "code",
   "execution_count": 66,
   "id": "47b35dbd",
   "metadata": {},
   "outputs": [
    {
     "data": {
      "text/plain": [
       "'C'"
      ]
     },
     "execution_count": 66,
     "metadata": {},
     "output_type": "execute_result"
    }
   ],
   "source": [
    "myletter.upper()"
   ]
  },
  {
   "cell_type": "code",
   "execution_count": 67,
   "id": "e2ece562",
   "metadata": {},
   "outputs": [
    {
     "data": {
      "text/plain": [
       "2"
      ]
     },
     "execution_count": 67,
     "metadata": {},
     "output_type": "execute_result"
    }
   ],
   "source": [
    "my_list[2][1]"
   ]
  },
  {
   "cell_type": "code",
   "execution_count": null,
   "id": "11a5db70",
   "metadata": {},
   "outputs": [],
   "source": []
  }
 ],
 "metadata": {
  "kernelspec": {
   "display_name": "Python 3 (ipykernel)",
   "language": "python",
   "name": "python3"
  },
  "language_info": {
   "codemirror_mode": {
    "name": "ipython",
    "version": 3
   },
   "file_extension": ".py",
   "mimetype": "text/x-python",
   "name": "python",
   "nbconvert_exporter": "python",
   "pygments_lexer": "ipython3",
   "version": "3.10.9"
  }
 },
 "nbformat": 4,
 "nbformat_minor": 5
}

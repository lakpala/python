{
 "cells": [
  {
   "cell_type": "code",
   "execution_count": 1,
   "id": "7ec92219",
   "metadata": {},
   "outputs": [],
   "source": [
    "#Methods In Python"
   ]
  },
  {
   "cell_type": "code",
   "execution_count": 2,
   "id": "475ebe61",
   "metadata": {},
   "outputs": [],
   "source": [
    "mylist = [1,2,3]\n",
    "mylist.append(10)"
   ]
  },
  {
   "cell_type": "code",
   "execution_count": 3,
   "id": "4238391f",
   "metadata": {},
   "outputs": [
    {
     "data": {
      "text/plain": [
       "[1, 2, 3, 10]"
      ]
     },
     "execution_count": 3,
     "metadata": {},
     "output_type": "execute_result"
    }
   ],
   "source": [
    "mylist"
   ]
  },
  {
   "cell_type": "code",
   "execution_count": 4,
   "id": "aed73900",
   "metadata": {},
   "outputs": [
    {
     "data": {
      "text/plain": [
       "10"
      ]
     },
     "execution_count": 4,
     "metadata": {},
     "output_type": "execute_result"
    }
   ],
   "source": [
    "mylist.pop()"
   ]
  },
  {
   "cell_type": "code",
   "execution_count": 6,
   "id": "6f3aacc2",
   "metadata": {},
   "outputs": [
    {
     "data": {
      "text/plain": [
       "[1, 2, 3]"
      ]
     },
     "execution_count": 6,
     "metadata": {},
     "output_type": "execute_result"
    }
   ],
   "source": [
    "mylist"
   ]
  },
  {
   "cell_type": "code",
   "execution_count": 1,
   "id": "11295817",
   "metadata": {},
   "outputs": [],
   "source": [
    "#def keyword"
   ]
  },
  {
   "cell_type": "code",
   "execution_count": 3,
   "id": "1352242f",
   "metadata": {},
   "outputs": [],
   "source": [
    "def name_of_function():\n",
    "    '''\n",
    "    Docstring explans function\n",
    "    '''\n",
    "    print(\"Hello BCA\")"
   ]
  },
  {
   "cell_type": "code",
   "execution_count": 4,
   "id": "f63b6cfc",
   "metadata": {},
   "outputs": [
    {
     "name": "stdout",
     "output_type": "stream",
     "text": [
      "Hello BCA\n"
     ]
    }
   ],
   "source": [
    "name_of_function()"
   ]
  },
  {
   "cell_type": "code",
   "execution_count": 5,
   "id": "ec7b2abd",
   "metadata": {},
   "outputs": [],
   "source": [
    "def arg_name(name):\n",
    "    print(f'Hello my name is{name}')\n",
    "    "
   ]
  },
  {
   "cell_type": "code",
   "execution_count": 6,
   "id": "cfe4458c",
   "metadata": {},
   "outputs": [
    {
     "name": "stdout",
     "output_type": "stream",
     "text": [
      "Hello my name isLakpa\n"
     ]
    }
   ],
   "source": [
    "arg_name(\"Lakpa\")"
   ]
  },
  {
   "cell_type": "code",
   "execution_count": 11,
   "id": "d779e87e",
   "metadata": {},
   "outputs": [],
   "source": [
    "def add_function(num1,num2):\n",
    "    return num1+num2"
   ]
  },
  {
   "cell_type": "code",
   "execution_count": 12,
   "id": "301e5dfd",
   "metadata": {},
   "outputs": [
    {
     "data": {
      "text/plain": [
       "90"
      ]
     },
     "execution_count": 12,
     "metadata": {},
     "output_type": "execute_result"
    }
   ],
   "source": [
    "add_function(40,50)"
   ]
  },
  {
   "cell_type": "code",
   "execution_count": 13,
   "id": "794aa39e",
   "metadata": {},
   "outputs": [],
   "source": [
    "def say_hello():\n",
    "    print(\"lakpa\")"
   ]
  },
  {
   "cell_type": "code",
   "execution_count": 14,
   "id": "420c3907",
   "metadata": {},
   "outputs": [
    {
     "name": "stdout",
     "output_type": "stream",
     "text": [
      "lakpa\n"
     ]
    }
   ],
   "source": [
    "say_hello()"
   ]
  },
  {
   "cell_type": "code",
   "execution_count": 15,
   "id": "1aeec162",
   "metadata": {},
   "outputs": [],
   "source": [
    "def say_hello():\n",
    "    print(\"My\")\n",
    "    print(\"Name\")\n",
    "    print(\"Is\")\n",
    "    print(\"Lakpa\")\n",
    "    print(\"Sherpa\")"
   ]
  },
  {
   "cell_type": "code",
   "execution_count": 17,
   "id": "42611b5c",
   "metadata": {},
   "outputs": [
    {
     "name": "stdout",
     "output_type": "stream",
     "text": [
      "My\n",
      "Name\n",
      "Is\n",
      "Lakpa\n",
      "Sherpa\n"
     ]
    }
   ],
   "source": [
    "say_hello()"
   ]
  },
  {
   "cell_type": "code",
   "execution_count": 21,
   "id": "35fa1bcf",
   "metadata": {},
   "outputs": [],
   "source": [
    "def said_hello(name = 'This Is A Default Value'):\n",
    "    print(f'Hello My Name Is{Name}')"
   ]
  },
  {
   "cell_type": "code",
   "execution_count": 22,
   "id": "b62f8bba",
   "metadata": {},
   "outputs": [
    {
     "data": {
      "text/plain": [
       "<function __main__.said_hello(name='This Is A Default Value')>"
      ]
     },
     "execution_count": 22,
     "metadata": {},
     "output_type": "execute_result"
    }
   ],
   "source": [
    "said_hello"
   ]
  },
  {
   "cell_type": "code",
   "execution_count": 23,
   "id": "b9bbd692",
   "metadata": {},
   "outputs": [],
   "source": [
    "def add_num(num1,num2):\n",
    "    return num1+num2"
   ]
  },
  {
   "cell_type": "code",
   "execution_count": 24,
   "id": "d0c33ff7",
   "metadata": {},
   "outputs": [],
   "source": [
    "def print_result(num1,num2):\n",
    "    print(num1+num2)"
   ]
  },
  {
   "cell_type": "code",
   "execution_count": 27,
   "id": "41801c0c",
   "metadata": {},
   "outputs": [
    {
     "data": {
      "text/plain": [
       "int"
      ]
     },
     "execution_count": 27,
     "metadata": {},
     "output_type": "execute_result"
    }
   ],
   "source": [
    "type(add_num(10,20))"
   ]
  },
  {
   "cell_type": "code",
   "execution_count": 28,
   "id": "3eb070ae",
   "metadata": {},
   "outputs": [
    {
     "name": "stdout",
     "output_type": "stream",
     "text": [
      "30\n"
     ]
    },
    {
     "data": {
      "text/plain": [
       "NoneType"
      ]
     },
     "execution_count": 28,
     "metadata": {},
     "output_type": "execute_result"
    }
   ],
   "source": [
    "type(print_result(10,20))"
   ]
  },
  {
   "cell_type": "code",
   "execution_count": 29,
   "id": "2c2ef672",
   "metadata": {},
   "outputs": [],
   "source": [
    "saving = add_num(10,20)"
   ]
  },
  {
   "cell_type": "code",
   "execution_count": 30,
   "id": "1fbd3018",
   "metadata": {},
   "outputs": [
    {
     "data": {
      "text/plain": [
       "30"
      ]
     },
     "execution_count": 30,
     "metadata": {},
     "output_type": "execute_result"
    }
   ],
   "source": [
    "saving"
   ]
  },
  {
   "cell_type": "code",
   "execution_count": 31,
   "id": "791ec8d4",
   "metadata": {},
   "outputs": [],
   "source": [
    "def func(a,b):\n",
    "    print(a+b)\n",
    "    return a+b"
   ]
  },
  {
   "cell_type": "code",
   "execution_count": 32,
   "id": "602ebb90",
   "metadata": {},
   "outputs": [
    {
     "name": "stdout",
     "output_type": "stream",
     "text": [
      "30\n"
     ]
    }
   ],
   "source": [
    "result = func(10,20)"
   ]
  },
  {
   "cell_type": "code",
   "execution_count": 33,
   "id": "913c0f79",
   "metadata": {},
   "outputs": [
    {
     "data": {
      "text/plain": [
       "30"
      ]
     },
     "execution_count": 33,
     "metadata": {},
     "output_type": "execute_result"
    }
   ],
   "source": [
    "result"
   ]
  },
  {
   "cell_type": "code",
   "execution_count": 38,
   "id": "682aed45",
   "metadata": {},
   "outputs": [],
   "source": []
  }
 ],
 "metadata": {
  "kernelspec": {
   "display_name": "Python 3 (ipykernel)",
   "language": "python",
   "name": "python3"
  },
  "language_info": {
   "codemirror_mode": {
    "name": "ipython",
    "version": 3
   },
   "file_extension": ".py",
   "mimetype": "text/x-python",
   "name": "python",
   "nbconvert_exporter": "python",
   "pygments_lexer": "ipython3",
   "version": "3.10.9"
  }
 },
 "nbformat": 4,
 "nbformat_minor": 5
}

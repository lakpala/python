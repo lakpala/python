{
 "cells": [
  {
   "cell_type": "code",
   "execution_count": 1,
   "id": "5c94c944",
   "metadata": {},
   "outputs": [],
   "source": [
    "x = 25\n",
    "def printer():\n",
    "    x = 100\n",
    "    return x"
   ]
  },
  {
   "cell_type": "code",
   "execution_count": 2,
   "id": "19c6fa2b",
   "metadata": {},
   "outputs": [
    {
     "name": "stdout",
     "output_type": "stream",
     "text": [
      "25\n"
     ]
    }
   ],
   "source": [
    "print(x)"
   ]
  },
  {
   "cell_type": "code",
   "execution_count": 3,
   "id": "9f7197fd",
   "metadata": {},
   "outputs": [
    {
     "name": "stdout",
     "output_type": "stream",
     "text": [
      "100\n"
     ]
    }
   ],
   "source": [
    "print(printer())"
   ]
  },
  {
   "cell_type": "code",
   "execution_count": 13,
   "id": "298300ed",
   "metadata": {},
   "outputs": [],
   "source": [
    "def greet():\n",
    "    name = \"lakpa\"\n",
    "    def hello ():\n",
    "        print('Hello '+name)\n",
    "    hello ()"
   ]
  },
  {
   "cell_type": "code",
   "execution_count": 14,
   "id": "371d4df0",
   "metadata": {},
   "outputs": [
    {
     "name": "stdout",
     "output_type": "stream",
     "text": [
      "Hello lakpa\n"
     ]
    }
   ],
   "source": [
    "greet()"
   ]
  },
  {
   "cell_type": "code",
   "execution_count": 20,
   "id": "087ee6b4",
   "metadata": {},
   "outputs": [
    {
     "name": "stdout",
     "output_type": "stream",
     "text": [
      "x is 2023\n",
      "Changed local x to 2023\n",
      "x is still 2023\n"
     ]
    }
   ],
   "source": [
    "x = 2023\n",
    "def func(x):\n",
    "    print(\"x is\",x)\n",
    "    x = 2023\n",
    "    print(\"Changed local x to\",x)\n",
    "\n",
    "func(x)\n",
    "print(\"x is still\",x)"
   ]
  },
  {
   "cell_type": "code",
   "execution_count": 22,
   "id": "cb04ae7e",
   "metadata": {},
   "outputs": [
    {
     "name": "stdout",
     "output_type": "stream",
     "text": [
      "Before calling func(), x is 2020\n",
      "This is for global x!\n",
      "Because of global x is:  2020\n",
      "Ran func(),changed global x to 2023\n",
      "Value of x (oudside of the func()) is:  2023\n"
     ]
    }
   ],
   "source": [
    "x = 2020\n",
    "def func():\n",
    "    global x\n",
    "    print('This is for global x!')\n",
    "    print('Because of global x is: ', x)\n",
    "    x = 2023\n",
    "    print('Ran func(),changed global x to',x)\n",
    "    \n",
    "print('Before calling func(), x is', x)\n",
    "func()\n",
    "print('Value of x (oudside of the func()) is: ', x)"
   ]
  },
  {
   "cell_type": "code",
   "execution_count": null,
   "id": "22dda329",
   "metadata": {},
   "outputs": [],
   "source": [
    " "
   ]
  }
 ],
 "metadata": {
  "kernelspec": {
   "display_name": "Python 3 (ipykernel)",
   "language": "python",
   "name": "python3"
  },
  "language_info": {
   "codemirror_mode": {
    "name": "ipython",
    "version": 3
   },
   "file_extension": ".py",
   "mimetype": "text/x-python",
   "name": "python",
   "nbconvert_exporter": "python",
   "pygments_lexer": "ipython3",
   "version": "3.10.9"
  }
 },
 "nbformat": 4,
 "nbformat_minor": 5
}

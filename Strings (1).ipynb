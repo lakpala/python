{
 "cells": [
  {
   "cell_type": "code",
   "execution_count": 8,
   "id": "41402415",
   "metadata": {},
   "outputs": [
    {
     "data": {
      "text/plain": [
       "'hello'"
      ]
     },
     "execution_count": 8,
     "metadata": {},
     "output_type": "execute_result"
    }
   ],
   "source": [
    "\"hello\""
   ]
  },
  {
   "cell_type": "code",
   "execution_count": 9,
   "id": "1881384e",
   "metadata": {},
   "outputs": [
    {
     "data": {
      "text/plain": [
       "'hello'"
      ]
     },
     "execution_count": 9,
     "metadata": {},
     "output_type": "execute_result"
    }
   ],
   "source": [
    "'hello'"
   ]
  },
  {
   "cell_type": "code",
   "execution_count": 10,
   "id": "c7d2630d",
   "metadata": {},
   "outputs": [
    {
     "name": "stdout",
     "output_type": "stream",
     "text": [
      "hello\n"
     ]
    }
   ],
   "source": [
    "print(\"hello\")"
   ]
  },
  {
   "cell_type": "code",
   "execution_count": 3,
   "id": "03e1dafa",
   "metadata": {},
   "outputs": [
    {
     "name": "stdout",
     "output_type": "stream",
     "text": [
      "it is a beautiful day \tits spring\n"
     ]
    }
   ],
   "source": [
    "print(\"it is a beautiful day \\tits spring\")"
   ]
  },
  {
   "cell_type": "code",
   "execution_count": 13,
   "id": "d0e519a3",
   "metadata": {},
   "outputs": [
    {
     "name": "stdout",
     "output_type": "stream",
     "text": [
      "strings uses indentation \t it is a species\n"
     ]
    }
   ],
   "source": [
    "print('strings uses indentation \\t it is a species')"
   ]
  },
  {
   "cell_type": "code",
   "execution_count": 14,
   "id": "b79c7cfa",
   "metadata": {},
   "outputs": [],
   "source": [
    "my_string = 'beautiful'\n"
   ]
  },
  {
   "cell_type": "code",
   "execution_count": 15,
   "id": "dab99e03",
   "metadata": {},
   "outputs": [
    {
     "data": {
      "text/plain": [
       "9"
      ]
     },
     "execution_count": 15,
     "metadata": {},
     "output_type": "execute_result"
    }
   ],
   "source": [
    "len(my_string)"
   ]
  },
  {
   "cell_type": "code",
   "execution_count": 16,
   "id": "994837ec",
   "metadata": {},
   "outputs": [
    {
     "data": {
      "text/plain": [
       "5"
      ]
     },
     "execution_count": 16,
     "metadata": {},
     "output_type": "execute_result"
    }
   ],
   "source": [
    "len('lakpa')"
   ]
  },
  {
   "cell_type": "code",
   "execution_count": 17,
   "id": "2a81b4ba",
   "metadata": {},
   "outputs": [],
   "source": [
    "#indexing"
   ]
  },
  {
   "cell_type": "code",
   "execution_count": 18,
   "id": "ce1c3066",
   "metadata": {},
   "outputs": [],
   "source": [
    "mystring = 'hello world'"
   ]
  },
  {
   "cell_type": "code",
   "execution_count": 19,
   "id": "0ed7f1ba",
   "metadata": {},
   "outputs": [
    {
     "data": {
      "text/plain": [
       "'hello world'"
      ]
     },
     "execution_count": 19,
     "metadata": {},
     "output_type": "execute_result"
    }
   ],
   "source": [
    "mystring"
   ]
  },
  {
   "cell_type": "code",
   "execution_count": 21,
   "id": "c2d43213",
   "metadata": {},
   "outputs": [
    {
     "data": {
      "text/plain": [
       "'e'"
      ]
     },
     "execution_count": 21,
     "metadata": {},
     "output_type": "execute_result"
    }
   ],
   "source": [
    "mystring[1]"
   ]
  },
  {
   "cell_type": "code",
   "execution_count": 22,
   "id": "cdcbb1a5",
   "metadata": {},
   "outputs": [
    {
     "data": {
      "text/plain": [
       "'o'"
      ]
     },
     "execution_count": 22,
     "metadata": {},
     "output_type": "execute_result"
    }
   ],
   "source": [
    "mystring[4]"
   ]
  },
  {
   "cell_type": "code",
   "execution_count": 23,
   "id": "e690768f",
   "metadata": {},
   "outputs": [
    {
     "data": {
      "text/plain": [
       "'w'"
      ]
     },
     "execution_count": 23,
     "metadata": {},
     "output_type": "execute_result"
    }
   ],
   "source": [
    "mystring[6]"
   ]
  },
  {
   "cell_type": "code",
   "execution_count": 24,
   "id": "df0601de",
   "metadata": {},
   "outputs": [
    {
     "data": {
      "text/plain": [
       "'ello world'"
      ]
     },
     "execution_count": 24,
     "metadata": {},
     "output_type": "execute_result"
    }
   ],
   "source": [
    "mystring[1:]"
   ]
  },
  {
   "cell_type": "code",
   "execution_count": 25,
   "id": "8b6eb25c",
   "metadata": {},
   "outputs": [],
   "source": [
    "#slicing [start:stop:step]"
   ]
  },
  {
   "cell_type": "code",
   "execution_count": 26,
   "id": "e26a8890",
   "metadata": {},
   "outputs": [
    {
     "data": {
      "text/plain": [
       "'hello world'"
      ]
     },
     "execution_count": 26,
     "metadata": {},
     "output_type": "execute_result"
    }
   ],
   "source": [
    "mystring"
   ]
  },
  {
   "cell_type": "code",
   "execution_count": 35,
   "id": "e3c88c4c",
   "metadata": {},
   "outputs": [],
   "source": [
    "mystring = 'lakpasherpataming'"
   ]
  },
  {
   "cell_type": "code",
   "execution_count": 36,
   "id": "89074fc0",
   "metadata": {},
   "outputs": [
    {
     "data": {
      "text/plain": [
       "'lakpasherpatamang'"
      ]
     },
     "execution_count": 36,
     "metadata": {},
     "output_type": "execute_result"
    }
   ],
   "source": [
    "mystring"
   ]
  },
  {
   "cell_type": "code",
   "execution_count": 37,
   "id": "63148971",
   "metadata": {},
   "outputs": [
    {
     "data": {
      "text/plain": [
       "''"
      ]
     },
     "execution_count": 37,
     "metadata": {},
     "output_type": "execute_result"
    }
   ],
   "source": [
    "mystring[3:1]"
   ]
  },
  {
   "cell_type": "code",
   "execution_count": 38,
   "id": "12b0ab6d",
   "metadata": {},
   "outputs": [
    {
     "data": {
      "text/plain": [
       "'lak'"
      ]
     },
     "execution_count": 38,
     "metadata": {},
     "output_type": "execute_result"
    }
   ],
   "source": [
    "mystring[:3]"
   ]
  },
  {
   "cell_type": "code",
   "execution_count": 1,
   "id": "c9b83863",
   "metadata": {},
   "outputs": [],
   "source": [
    "#String concatenation\n"
   ]
  },
  {
   "cell_type": "code",
   "execution_count": 2,
   "id": "d05e4dac",
   "metadata": {},
   "outputs": [
    {
     "data": {
      "text/plain": [
       "'2023'"
      ]
     },
     "execution_count": 2,
     "metadata": {},
     "output_type": "execute_result"
    }
   ],
   "source": [
    "\"20\"+\"23\""
   ]
  },
  {
   "cell_type": "code",
   "execution_count": 4,
   "id": "43a98a43",
   "metadata": {},
   "outputs": [],
   "source": [
    " #format method\n",
    "    \n",
    "    "
   ]
  },
  {
   "cell_type": "code",
   "execution_count": 5,
   "id": "ef97e201",
   "metadata": {},
   "outputs": [],
   "source": [
    "#'strings here{} {} {} ' ,format(something1, something2, something3 )"
   ]
  },
  {
   "cell_type": "code",
   "execution_count": 7,
   "id": "7e8e0fc7",
   "metadata": {},
   "outputs": [
    {
     "name": "stdout",
     "output_type": "stream",
     "text": [
      "Iam from dentam west sikkim\n"
     ]
    }
   ],
   "source": [
    "print('Iam from {}'.format(\"dentam west sikkim\"))\n"
   ]
  },
  {
   "cell_type": "code",
   "execution_count": 1,
   "id": "ab686ce5",
   "metadata": {},
   "outputs": [],
   "source": [
    "#float formattiing{value:width.precision f}"
   ]
  },
  {
   "cell_type": "code",
   "execution_count": 2,
   "id": "88c3776c",
   "metadata": {},
   "outputs": [],
   "source": [
    "result = 100/53"
   ]
  },
  {
   "cell_type": "code",
   "execution_count": 3,
   "id": "94912bdc",
   "metadata": {},
   "outputs": [
    {
     "data": {
      "text/plain": [
       "1.8867924528301887"
      ]
     },
     "execution_count": 3,
     "metadata": {},
     "output_type": "execute_result"
    }
   ],
   "source": [
    "result"
   ]
  },
  {
   "cell_type": "code",
   "execution_count": 4,
   "id": "5bcbf7e9",
   "metadata": {},
   "outputs": [
    {
     "name": "stdout",
     "output_type": "stream",
     "text": [
      "the result is 1.88679\n"
     ]
    }
   ],
   "source": [
    "print(\"the result is {r:1.5f}\". format(r=result))"
   ]
  },
  {
   "cell_type": "code",
   "execution_count": 5,
   "id": "6111b7e4",
   "metadata": {},
   "outputs": [
    {
     "name": "stdout",
     "output_type": "stream",
     "text": [
      "the result is 3773584.906\n"
     ]
    }
   ],
   "source": [
    "a=10000\n",
    "b=20000\n",
    "c=53\n",
    "res= (a*b)/c\n",
    "print('the result is {r:1.3f}'.format(r=res))"
   ]
  },
  {
   "cell_type": "code",
   "execution_count": 6,
   "id": "e522533d",
   "metadata": {},
   "outputs": [],
   "source": [
    "#formatted strings literals"
   ]
  },
  {
   "cell_type": "code",
   "execution_count": 7,
   "id": "d056c946",
   "metadata": {},
   "outputs": [],
   "source": [
    "name = \"lakpa\""
   ]
  },
  {
   "cell_type": "code",
   "execution_count": 10,
   "id": "87b6c221",
   "metadata": {},
   "outputs": [
    {
     "name": "stdout",
     "output_type": "stream",
     "text": [
      "my name is lakpa\n"
     ]
    }
   ],
   "source": [
    "print(f'my name is {name}')"
   ]
  },
  {
   "cell_type": "code",
   "execution_count": 13,
   "id": "06ecba42",
   "metadata": {},
   "outputs": [
    {
     "name": "stdout",
     "output_type": "stream",
     "text": [
      "his name is lakpa\n"
     ]
    }
   ],
   "source": [
    "print('his name is {}'.format(name))"
   ]
  },
  {
   "cell_type": "code",
   "execution_count": 14,
   "id": "08b26d21",
   "metadata": {},
   "outputs": [
    {
     "name": "stdout",
     "output_type": "stream",
     "text": [
      "lakpa is 19 years old\n"
     ]
    }
   ],
   "source": [
    "print(f'{name} is 19 years old')"
   ]
  }
 ],
 "metadata": {
  "kernelspec": {
   "display_name": "Python 3 (ipykernel)",
   "language": "python",
   "name": "python3"
  },
  "language_info": {
   "codemirror_mode": {
    "name": "ipython",
    "version": 3
   },
   "file_extension": ".py",
   "mimetype": "text/x-python",
   "name": "python",
   "nbconvert_exporter": "python",
   "pygments_lexer": "ipython3",
   "version": "3.10.9"
  }
 },
 "nbformat": 4,
 "nbformat_minor": 5
}

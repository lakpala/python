{
 "cells": [
  {
   "cell_type": "code",
   "execution_count": 1,
   "id": "74dcc5d0",
   "metadata": {},
   "outputs": [
    {
     "name": "stdout",
     "output_type": "stream",
     "text": [
      "Index of character 'p': 31\n"
     ]
    }
   ],
   "source": [
    "input_string = \"Python is an easy-to-learn and powerful programming language\"\n",
    "character_to_find = \"p\"\n",
    "index = input_string.find(character_to_find)\n",
    "print(f\"Index of character '{character_to_find}': {index}\")"
   ]
  },
  {
   "cell_type": "code",
   "execution_count": 2,
   "id": "3fad224a",
   "metadata": {},
   "outputs": [
    {
     "name": "stdout",
     "output_type": "stream",
     "text": [
      "Value associated with key 'B': 2\n"
     ]
    }
   ],
   "source": [
    "my_dict = {\"A\": 1, \"B\": 2, \"C\": 3}\n",
    "value = my_dict.get(\"B\")\n",
    "print(\"Value associated with key 'B':\", value)"
   ]
  },
  {
   "cell_type": "code",
   "execution_count": 3,
   "id": "142a5c7e",
   "metadata": {},
   "outputs": [
    {
     "name": "stdout",
     "output_type": "stream",
     "text": [
      "Length of the tuple: 5\n"
     ]
    }
   ],
   "source": [
    "my_tuple = (1, 4, 9, 16, 25)\n",
    "length = len(my_tuple)\n",
    "print(\"Length of the tuple:\", length)"
   ]
  },
  {
   "cell_type": "code",
   "execution_count": 4,
   "id": "2ecaab86",
   "metadata": {},
   "outputs": [
    {
     "name": "stdout",
     "output_type": "stream",
     "text": [
      "Length of the set: 5\n"
     ]
    }
   ],
   "source": [
    "my_set = {1, 2, 3, 4, 5, 2, 3, 4}\n",
    "length = len(my_set)\n",
    "print(\"Length of the set:\", length)"
   ]
  },
  {
   "cell_type": "code",
   "execution_count": 5,
   "id": "c7686538",
   "metadata": {},
   "outputs": [
    {
     "name": "stdout",
     "output_type": "stream",
     "text": [
      "Is 'madam' a palindrome? True\n"
     ]
    }
   ],
   "source": [
    "input_string = \"madam\"\n",
    "is_palindrome = input_string.lower() == input_string.lower()[::-1]\n",
    "print(f\"Is '{input_string}' a palindrome? {is_palindrome}\")"
   ]
  },
  {
   "cell_type": "code",
   "execution_count": 6,
   "id": "fe64c356",
   "metadata": {},
   "outputs": [
    {
     "name": "stdout",
     "output_type": "stream",
     "text": [
      "Maximum value: 9\n",
      "Minimum value: 1\n"
     ]
    }
   ],
   "source": [
    "my_list = [4, 6, 2, 9, 1, 3]\n",
    "max_value = max(my_list)\n",
    "min_value = min(my_list)\n",
    "print(\"Maximum value:\", max_value)\n",
    "print(\"Minimum value:\", min_value)"
   ]
  },
  {
   "cell_type": "code",
   "execution_count": 7,
   "id": "bb64b6a4",
   "metadata": {},
   "outputs": [
    {
     "name": "stdout",
     "output_type": "stream",
     "text": [
      "String with 'a' replaced by 'A': Python is An eAsy-to-leArn And powerful progrAmming lAnguAge\n"
     ]
    }
   ],
   "source": [
    "input_string = \"Python is an easy-to-learn and powerful programming language\"\n",
    "character_to_replace = \"a\"\n",
    "replacement = \"A\"\n",
    "new_string = input_string.replace(character_to_replace, replacement)\n",
    "print(f\"String with '{character_to_replace}' replaced by '{replacement}': {new_string}\")"
   ]
  },
  {
   "cell_type": "code",
   "execution_count": 8,
   "id": "68a37cff",
   "metadata": {},
   "outputs": [
    {
     "name": "stdout",
     "output_type": "stream",
     "text": [
      "Merged dictionary: {'A': 1, 'B': 2, 'C': 3, 'D': 4, 'E': 5, 'F': 6}\n"
     ]
    }
   ],
   "source": [
    "dict1 = {\"A\": 1, \"B\": 2, \"C\": 3}\n",
    "dict2 = {\"D\": 4, \"E\": 5, \"F\": 6}\n",
    "merged_dict = {**dict1, **dict2}\n",
    "print(\"Merged dictionary:\", merged_dict)"
   ]
  },
  {
   "cell_type": "code",
   "execution_count": 9,
   "id": "6f86f4f8",
   "metadata": {},
   "outputs": [
    {
     "name": "stdout",
     "output_type": "stream",
     "text": [
      "Does value 9 exist in the tuple? True\n"
     ]
    }
   ],
   "source": [
    "my_tuple = (1, 4, 9, 16, 25)\n",
    "value_to_check = 9\n",
    "value_exists = value_to_check in my_tuple\n",
    "print(f\"Does value {value_to_check} exist in the tuple? {value_exists}\")"
   ]
  },
  {
   "cell_type": "code",
   "execution_count": 10,
   "id": "ab168909",
   "metadata": {},
   "outputs": [
    {
     "name": "stdout",
     "output_type": "stream",
     "text": [
      "Set without duplicates: {1, 2, 3, 4, 5}\n"
     ]
    }
   ],
   "source": [
    "my_list = [1, 2, 3, 4, 5, 2, 3, 4]\n",
    "unique_set = set(my_list)\n",
    "print(\"Set without duplicates:\", unique_set)"
   ]
  },
  {
   "cell_type": "code",
   "execution_count": null,
   "id": "2cda95d3",
   "metadata": {},
   "outputs": [],
   "source": []
  }
 ],
 "metadata": {
  "kernelspec": {
   "display_name": "Python 3 (ipykernel)",
   "language": "python",
   "name": "python3"
  },
  "language_info": {
   "codemirror_mode": {
    "name": "ipython",
    "version": 3
   },
   "file_extension": ".py",
   "mimetype": "text/x-python",
   "name": "python",
   "nbconvert_exporter": "python",
   "pygments_lexer": "ipython3",
   "version": "3.10.9"
  }
 },
 "nbformat": 4,
 "nbformat_minor": 5
}

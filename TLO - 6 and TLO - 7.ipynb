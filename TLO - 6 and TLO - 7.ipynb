{
 "cells": [
  {
   "cell_type": "code",
   "execution_count": 1,
   "id": "844ce39c",
   "metadata": {},
   "outputs": [
    {
     "name": "stdout",
     "output_type": "stream",
     "text": [
      "The square of 5 is 25.\n"
     ]
    }
   ],
   "source": [
    "def square_number(num):\n",
    "    squared = num * num\n",
    "    return squared\n",
    "number = 5\n",
    "result = square_number(number)\n",
    "print(f\"The square of {number} is {result}.\")"
   ]
  },
  {
   "cell_type": "code",
   "execution_count": 2,
   "id": "6d856855",
   "metadata": {},
   "outputs": [
    {
     "name": "stdout",
     "output_type": "stream",
     "text": [
      "Is 'Racecar' a palindrome? True\n"
     ]
    }
   ],
   "source": [
    "def is_palindrome(word):\n",
    "    word = word.lower()\n",
    "    return word == word[::-1]\n",
    "test_word = \"Racecar\"\n",
    "result = is_palindrome(test_word)\n",
    "print(f\"Is '{test_word}' a palindrome? {result}\")"
   ]
  },
  {
   "cell_type": "code",
   "execution_count": 3,
   "id": "e0c9e4d4",
   "metadata": {},
   "outputs": [
    {
     "name": "stdout",
     "output_type": "stream",
     "text": [
      "The factorial of 5 is 120.\n"
     ]
    }
   ],
   "source": [
    "def factorial(num):\n",
    "    if num == 0 or num == 1:\n",
    "        return 1\n",
    "    else:\n",
    "        result = 1\n",
    "        for i in range(1, num + 1):\n",
    "            result *= i\n",
    "        return result\n",
    "number = 5\n",
    "result = factorial(number)\n",
    "print(f\"The factorial of {number} is {result}.\")"
   ]
  },
  {
   "cell_type": "code",
   "execution_count": 4,
   "id": "1632a950",
   "metadata": {},
   "outputs": [
    {
     "name": "stdout",
     "output_type": "stream",
     "text": [
      "Is 5 odd? True\n"
     ]
    }
   ],
   "source": [
    "def odd_check(num):\n",
    "    return num % 2 == 1\n",
    "number = 5\n",
    "result = odd_check(number)\n",
    "print(f\"Is {number} odd? {result}\")"
   ]
  },
  {
   "cell_type": "code",
   "execution_count": 6,
   "id": "115b0b58",
   "metadata": {},
   "outputs": [
    {
     "name": "stdout",
     "output_type": "stream",
     "text": [
      "Odd numbers in the list: [1, 3, 5, 7, 9]\n"
     ]
    }
   ],
   "source": [
    "def odd_numbers_list(num_list):\n",
    "    odd_numbers = []\n",
    "    for number in num_list:\n",
    "        if number % 2 == 1:\n",
    "            odd_numbers.append(number)\n",
    "    return odd_numbers\n",
    "numbers = [1, 2, 3, 4, 5, 6, 7, 8, 9]\n",
    "result = odd_numbers_list(numbers)\n",
    "print(f\"Odd numbers in the list: {result}\")"
   ]
  },
  {
   "cell_type": "code",
   "execution_count": 7,
   "id": "c80a0883",
   "metadata": {},
   "outputs": [
    {
     "name": "stdout",
     "output_type": "stream",
     "text": [
      "Employee of the month is Sammy with 600 hours worked.\n"
     ]
    }
   ],
   "source": [
    "def employee_of_month(work_hours):\n",
    "    current_max = 0\n",
    "    employee_of_month = ''\n",
    "    for employee, hours in work_hours:\n",
    "        if hours > current_max:\n",
    "            current_max = hours\n",
    "            employee_of_month = employee\n",
    "    return (employee_of_month, current_max)\n",
    "work_hours_data = [('Abby', 100), ('Mark', 200), ('Sammy', 600)]\n",
    "result = employee_of_month(work_hours_data)\n",
    "print(f\"Employee of the month is {result[0]} with {result[1]} hours worked.\")"
   ]
  },
  {
   "cell_type": "code",
   "execution_count": 8,
   "id": "5bb8ceee",
   "metadata": {},
   "outputs": [
    {
     "name": "stdout",
     "output_type": "stream",
     "text": [
      "[0, 1, 4, 9, 16, 25, 36, 49, 64, 81, 100]\n"
     ]
    }
   ],
   "source": [
    "def squared_numbers(num_range):\n",
    "    squared_list = [num**2 for num in num_range]\n",
    "    return squared_list\n",
    "result = squared_numbers(range(0, 11))\n",
    "print(result)"
   ]
  },
  {
   "cell_type": "code",
   "execution_count": 9,
   "id": "372c431d",
   "metadata": {},
   "outputs": [
    {
     "name": "stdout",
     "output_type": "stream",
     "text": [
      "[1, 3, 5, 7, 9]\n"
     ]
    }
   ],
   "source": [
    "def odd_numbers(num_range):\n",
    "    odd_list = [num for num in num_range if num % 2 != 0]\n",
    "    return odd_list\n",
    "result = odd_numbers(range(0, 11))\n",
    "print(result)"
   ]
  },
  {
   "cell_type": "code",
   "execution_count": 10,
   "id": "ebf76f91",
   "metadata": {},
   "outputs": [
    {
     "name": "stdout",
     "output_type": "stream",
     "text": [
      "[0, 4, 16, 36, 64, 100]\n"
     ]
    }
   ],
   "source": [
    "def even_squared_numbers(num_range):\n",
    "    even_squared_list = [num**2 for num in num_range if num % 2 == 0]\n",
    "    return even_squared_list\n",
    "result = even_squared_numbers(range(0, 11))\n",
    "print(result)"
   ]
  },
  {
   "cell_type": "code",
   "execution_count": null,
   "id": "94f2ce53",
   "metadata": {},
   "outputs": [],
   "source": []
  }
 ],
 "metadata": {
  "kernelspec": {
   "display_name": "Python 3 (ipykernel)",
   "language": "python",
   "name": "python3"
  },
  "language_info": {
   "codemirror_mode": {
    "name": "ipython",
    "version": 3
   },
   "file_extension": ".py",
   "mimetype": "text/x-python",
   "name": "python",
   "nbconvert_exporter": "python",
   "pygments_lexer": "ipython3",
   "version": "3.10.9"
  }
 },
 "nbformat": 4,
 "nbformat_minor": 5
}
